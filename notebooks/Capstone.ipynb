{
 "cells": [
  {
   "cell_type": "code",
   "execution_count": 1,
   "id": "2cae219a-a8e9-418d-8a71-297c28966c0f",
   "metadata": {},
   "outputs": [],
   "source": [
    "import pandas as pd\n",
    "import matplotlib.pyplot as plt\n",
    "import seaborn as sns\n",
    "import numpy as np"
   ]
  },
  {
   "cell_type": "markdown",
   "id": "ce6f4a22-a350-4452-887d-8e224fb78f59",
   "metadata": {},
   "source": [
    "# Loading dfs"
   ]
  },
  {
   "cell_type": "code",
   "execution_count": 2,
   "id": "5cbfde1a-b675-479b-b0a4-92a0ac4deb6c",
   "metadata": {},
   "outputs": [],
   "source": [
    "data_2019 = pd.read_csv(\"C:/Users/marya/Documents/DA11/Python/projects/TNEducationCapstone/data/Capstone Data_2019.csv\")"
   ]
  },
  {
   "cell_type": "code",
   "execution_count": 3,
   "id": "af1f6f5b-d539-44a0-91ac-1f6bddce2a3e",
   "metadata": {},
   "outputs": [],
   "source": [
    "data_2020 = pd.read_csv(\"C:/Users/marya/Documents/DA11/Python/projects/TNEducationCapstone/data/Capstone Data_2020.csv\")"
   ]
  },
  {
   "cell_type": "code",
   "execution_count": 4,
   "id": "a4018d5d-25c6-41d0-b984-a422b8610e1d",
   "metadata": {},
   "outputs": [],
   "source": [
    "data_2021 = pd.read_csv(\"C:/Users/marya/Documents/DA11/Python/projects/TNEducationCapstone/data/Capstone Data_2021.csv\")"
   ]
  },
  {
   "cell_type": "code",
   "execution_count": 5,
   "id": "e881bf50-3d1e-4326-a74e-22e2867cf967",
   "metadata": {},
   "outputs": [],
   "source": [
    "data_2022 = pd.read_csv(\"C:/Users/marya/Documents/DA11/Python/projects/TNEducationCapstone/data/Capstone Data_2022.csv\")"
   ]
  },
  {
   "cell_type": "markdown",
   "id": "9e71ca85-3afa-49aa-af98-b804b25d78b4",
   "metadata": {},
   "source": [
    "# Exploring Data"
   ]
  },
  {
   "cell_type": "markdown",
   "id": "00d0802c-fe3a-4313-b6d2-0046ac5a6fd6",
   "metadata": {},
   "source": [
    "## Exploring columns of each df"
   ]
  },
  {
   "cell_type": "code",
   "execution_count": 87,
   "id": "35d5e0f2-df6b-49e7-86de-9822e5c4bd82",
   "metadata": {
    "scrolled": true
   },
   "outputs": [
    {
     "data": {
      "text/plain": [
       "Index(['unitid', 'institution name', 'year', 'HD2019.State abbreviation',\n",
       "       'HD2019.Sector of institution',\n",
       "       'HD2019.Historically Black College or University',\n",
       "       'DRVEF2019_RV.Full-time undergraduate enrollment',\n",
       "       'DRVEF2019_RV.Percent of undergraduate enrollment that are American Indian or Alaska Native',\n",
       "       'DRVEF2019_RV.Percent of undergraduate enrollment that are Asian',\n",
       "       'DRVEF2019_RV.Percent of undergraduate enrollment that are Black or African American',\n",
       "       'DRVEF2019_RV.Percent of undergraduate enrollment that are Hispanic/Latino',\n",
       "       'DRVEF2019_RV.Percent of undergraduate enrollment that are Native Hawaiian or Other Pacific Islander',\n",
       "       'DRVEF2019_RV.Percent of undergraduate enrollment that are White',\n",
       "       'DRVEF2019_RV.Percent of undergraduate enrollment that are two or more races',\n",
       "       'DRVEF2019_RV.Percent of undergraduate enrollment that are Race/ethnicity unknown',\n",
       "       'DRVEF2019_RV.Percent of undergraduate enrollment that are Nonresident Alien',\n",
       "       'DRVEF2019_RV.Percent of undergraduate enrollment that are Asian/Native Hawaiian/Pacific Islander',\n",
       "       'DRVEF2019_RV.Percent of undergraduate enrollment that are women',\n",
       "       'EF2019D_RV.Full-time retention rate, 2019',\n",
       "       'DRVGR2019_RV.Graduation rate - Bachelor degree within 6 years, total',\n",
       "       'DRVGR2019_RV.Graduation rate - Bachelor degree within 6 years, men',\n",
       "       'DRVGR2019_RV.Graduation rate - Bachelor degree within 6 years, women',\n",
       "       'DRVGR2019_RV.Graduation rate - Bachelor degree within 6 years, American Indian or Alaska Native',\n",
       "       'DRVGR2019_RV.Graduation rate - Bachelor degree within 6 years, Asian/Native Hawaiian/Pacific Islander',\n",
       "       'DRVGR2019_RV.Graduation rate - Bachelor degree within 6 years, Asian',\n",
       "       'DRVGR2019_RV.Graduation rate - Bachelor degree within 6 years, Native Hawaiian or Other Pacific Islander',\n",
       "       'DRVGR2019_RV.Graduation rate - Bachelor degree within 6 years, Black, non-Hispanic',\n",
       "       'DRVGR2019_RV.Graduation rate - Bachelor degree within 6 years, Hispanic',\n",
       "       'DRVGR2019_RV.Graduation rate - Bachelor degree within 6 years, White, non-Hispanic',\n",
       "       'DRVGR2019_RV.Graduation rate - Bachelor degree within 6 years, two or more races',\n",
       "       'DRVGR2019_RV.Graduation rate - Bachelor degree within 6 years, Race/ethnicity unknown',\n",
       "       'DRVGR2019_RV.Graduation rate - Bachelor degree within 6 years, Nonresident alien',\n",
       "       'DRVGR2019_RV.Pell Grant recipients - Bachelor's degree rate within 6 years'],\n",
       "      dtype='object')"
      ]
     },
     "execution_count": 87,
     "metadata": {},
     "output_type": "execute_result"
    }
   ],
   "source": [
    "data_2019.columns"
   ]
  },
  {
   "cell_type": "code",
   "execution_count": 23,
   "id": "4a2dac52-9a44-4f8d-a146-2c159fe0947e",
   "metadata": {
    "scrolled": true
   },
   "outputs": [
    {
     "data": {
      "text/plain": [
       "(149, 33)"
      ]
     },
     "execution_count": 23,
     "metadata": {},
     "output_type": "execute_result"
    }
   ],
   "source": [
    "data_2019.shape"
   ]
  },
  {
   "cell_type": "code",
   "execution_count": 6,
   "id": "e2ce7571-a810-4a63-9c41-772ca1b54d3e",
   "metadata": {},
   "outputs": [],
   "source": [
    "data_2019 = data_2019.rename(columns={'unitid': 'ID', 'institution name': 'Institution Name', 'year':'Year', 'HD2019.State abbreviation':'State Abbreviation',\n",
    "       'HD2019.Sector of institution': 'Institution Sector',\n",
    "       'HD2019.Historically Black College or University': 'HBCU',\n",
    "       'DRVEF2019_RV.Full-time undergraduate enrollment': 'FT Undergraduate Enrollment',\n",
    "       'DRVEF2019_RV.Percent of undergraduate enrollment that are American Indian or Alaska Native': 'Percent of Enrollment - American Indian or Alaska Native',\n",
    "       'DRVEF2019_RV.Percent of undergraduate enrollment that are Asian': 'Percent of Enrollment - Asian',\n",
    "       'DRVEF2019_RV.Percent of undergraduate enrollment that are Black or African American': 'Percent of Enrollment - Black or African American',\n",
    "       'DRVEF2019_RV.Percent of undergraduate enrollment that are Hispanic/Latino': 'Percent of Enrollment - Hispanic/Latino',\n",
    "       'DRVEF2019_RV.Percent of undergraduate enrollment that are Native Hawaiian or Other Pacific Islander' : 'Percent of Enrollment - Native Hawaiian or Other Pacific Islander',\n",
    "       'DRVEF2019_RV.Percent of undergraduate enrollment that are White': 'Percent of Enrollment - White',\n",
    "       'DRVEF2019_RV.Percent of undergraduate enrollment that are two or more races': 'Percent of Enrollment - Two or More Races',\n",
    "       'DRVEF2019_RV.Percent of undergraduate enrollment that are Race/ethnicity unknown': 'Percent of Enrollment - Race/ethnicity unknown',\n",
    "       'DRVEF2019_RV.Percent of undergraduate enrollment that are Nonresident Alien': 'Percent of Enrollment - Nonresident Alien',\n",
    "       'DRVEF2019_RV.Percent of undergraduate enrollment that are Asian/Native Hawaiian/Pacific Islander' : 'Percent of Enrollment - Asian/Native Hawaiian/Pacific Islander',\n",
    "       'DRVEF2019_RV.Percent of undergraduate enrollment that are women' : 'Percent of Enrollment - Women',\n",
    "       'EF2019D_RV.Full-time retention rate, 2019' : 'FT Retention Rate',\n",
    "       'DRVGR2019_RV.Graduation rate - Bachelor degree within 6 years, total': 'Graduation Rate (6 Years) - Total',\n",
    "       'DRVGR2019_RV.Graduation rate - Bachelor degree within 6 years, men': 'Graduation Rate (6 Years) - Men',\n",
    "       'DRVGR2019_RV.Graduation rate - Bachelor degree within 6 years, women': 'Graduation Rate (6 Years) - Women',\n",
    "       'DRVGR2019_RV.Graduation rate - Bachelor degree within 6 years, American Indian or Alaska Native': 'Graduation Rate (6 Years) - American Indian or Alaska Native',\n",
    "       'DRVGR2019_RV.Graduation rate - Bachelor degree within 6 years, Asian/Native Hawaiian/Pacific Islander': 'Graduation Rate (6 Years) - Asian/Native Hawaiian/Pacific Islander',\n",
    "       'DRVGR2019_RV.Graduation rate - Bachelor degree within 6 years, Asian': 'Graduation Rate (6 Years) - Asian',\n",
    "       'DRVGR2019_RV.Graduation rate - Bachelor degree within 6 years, Native Hawaiian or Other Pacific Islander': 'Graduation Rate (6 Years) - Native Hawaiian or Other Pacific Islander',\n",
    "       'DRVGR2019_RV.Graduation rate - Bachelor degree within 6 years, Black, non-Hispanic': 'Graduation Rate (6 Years) - Black, non-Hispanic',\n",
    "       'DRVGR2019_RV.Graduation rate - Bachelor degree within 6 years, Hispanic': 'Graduation Rate (6 Years) - Hispanic',\n",
    "       'DRVGR2019_RV.Graduation rate - Bachelor degree within 6 years, White, non-Hispanic': 'Graduation Rate (6 Years) - White, non-Hispanic',\n",
    "       'DRVGR2019_RV.Graduation rate - Bachelor degree within 6 years, two or more races': 'Graduation Rate (6 Years) - Two or more races',\n",
    "       'DRVGR2019_RV.Graduation rate - Bachelor degree within 6 years, Race/ethnicity unknown': 'Graduation Rate (6 Years) - Race/ethnicity unknown',\n",
    "       'DRVGR2019_RV.Graduation rate - Bachelor degree within 6 years, Nonresident alien': 'Graduation Rate (6 Years) - Nonresident alien',\n",
    "       \"DRVGR2019_RV.Pell Grant recipients - Bachelor's degree rate within 6 years\": \"Graduation Rate (6 Years) - Pell Grant\"})"
   ]
  },
  {
   "cell_type": "code",
   "execution_count": 89,
   "id": "bb064104-a8ae-44be-9f38-61a001eb14b8",
   "metadata": {},
   "outputs": [
    {
     "data": {
      "text/plain": [
       "Index(['ID', 'Institution Name', 'Year', 'State Abbreviation',\n",
       "       'Institution Sector', 'HBCU', 'FT Undergraduate Enrollment',\n",
       "       'Percent of Enrollment - American Indian or Alaska Native',\n",
       "       'Percent of Enrollment - Asian',\n",
       "       'Percent of Enrollment - Black or African American',\n",
       "       'Percent of Enrollment - Hispanic/Latino',\n",
       "       'Percent of Enrollment - Native Hawaiian or Other Pacific Islander',\n",
       "       'Percent of Enrollment - White',\n",
       "       'Percent of Enrollment - Two or More Races',\n",
       "       'Percent of Enrollment - Race/ethnicity unknown',\n",
       "       'Percent of Enrollment - Nonresident Alien',\n",
       "       'Percent of Enrollment - Asian/Native Hawaiian/Pacific Islander',\n",
       "       'Percent of Enrollment - Women', 'FT Retention Rate',\n",
       "       'Graduation Rate (6 Years) - Total', 'Graduation Rate (6 Years) - Men',\n",
       "       'Graduation Rate (6 Years) - Women',\n",
       "       'Graduation Rate (6 Years) - American Indian or Alaska Native',\n",
       "       'Graduation Rate (6 Years) - Asian/Native Hawaiian/Pacific Islander',\n",
       "       'Graduation Rate (6 Years) - Asian',\n",
       "       'Graduation Rate (6 Years) - Native Hawaiian or Other Pacific Islander',\n",
       "       'Graduation Rate (6 Years) - Black, non-Hispanic',\n",
       "       'Graduation Rate (6 Years) - Hispanic',\n",
       "       'Graduation Rate (6 Years) - White, non-Hispanic',\n",
       "       'Graduation Rate (6 Years) - Two or more races',\n",
       "       'Graduation Rate (6 Years) - Race/ethnicity unknown',\n",
       "       'Graduation Rate (6 Years) - Nonresident alien',\n",
       "       'Graduation Rate (6 Years) - Pell Grant'],\n",
       "      dtype='object')"
      ]
     },
     "execution_count": 89,
     "metadata": {},
     "output_type": "execute_result"
    }
   ],
   "source": [
    "data_2019.columns"
   ]
  },
  {
   "cell_type": "code",
   "execution_count": 7,
   "id": "4b0100df-3173-4be9-90e4-c8d6e930bda5",
   "metadata": {},
   "outputs": [],
   "source": [
    "data_2020 = data_2020.rename(columns={'unitid': 'ID', 'institution name': 'Institution Name', 'year':'Year', 'HD2020.State abbreviation':'State Abbreviation',\n",
    "       'HD2020.Sector of institution': 'Institution Sector',\n",
    "       'HD2020.Historically Black College or University': 'HBCU',\n",
    "       'DRVEF2020_RV.Full-time undergraduate enrollment': 'FT Undergraduate Enrollment',\n",
    "       'DRVEF2020_RV.Percent of undergraduate enrollment that are American Indian or Alaska Native': 'Percent of Enrollment - American Indian or Alaska Native',\n",
    "       'DRVEF2020_RV.Percent of undergraduate enrollment that are Asian': 'Percent of Enrollment - Asian',\n",
    "       'DRVEF2020_RV.Percent of undergraduate enrollment that are Black or African American': 'Percent of Enrollment - Black or African American',\n",
    "       'DRVEF2020_RV.Percent of undergraduate enrollment that are Hispanic/Latino': 'Percent of Enrollment - Hispanic/Latino',\n",
    "       'DRVEF2020_RV.Percent of undergraduate enrollment that are Native Hawaiian or Other Pacific Islander' : 'Percent of Enrollment - Native Hawaiian or Other Pacific Islander',\n",
    "       'DRVEF2020_RV.Percent of undergraduate enrollment that are White': 'Percent of Enrollment - White',\n",
    "       'DRVEF2020_RV.Percent of undergraduate enrollment that are two or more races': 'Percent of Enrollment - Two or More Races',\n",
    "       'DRVEF2020_RV.Percent of undergraduate enrollment that are Race/ethnicity unknown': 'Percent of Enrollment - Race/ethnicity unknown',\n",
    "       'DRVEF2020_RV.Percent of undergraduate enrollment that are Nonresident Alien': 'Percent of Enrollment - Nonresident Alien',\n",
    "       'DRVEF2020_RV.Percent of undergraduate enrollment that are Asian/Native Hawaiian/Pacific Islander' : 'Percent of Enrollment - Asian/Native Hawaiian/Pacific Islander',\n",
    "       'DRVEF2020_RV.Percent of undergraduate enrollment that are women' : 'Percent of Enrollment - Women',\n",
    "       'EF2020D_RV.Full-time retention rate, 2020' : 'FT Retention Rate',\n",
    "       'DRVGR2020_RV.Graduation rate - Bachelor degree within 6 years, total': 'Graduation Rate (6 Years) - Total',\n",
    "       'DRVGR2020_RV.Graduation rate - Bachelor degree within 6 years, men': 'Graduation Rate (6 Years) - Men',\n",
    "       'DRVGR2020_RV.Graduation rate - Bachelor degree within 6 years, women': 'Graduation Rate (6 Years) - Women',\n",
    "       'DRVGR2020_RV.Graduation rate - Bachelor degree within 6 years, American Indian or Alaska Native': 'Graduation Rate (6 Years) - American Indian or Alaska Native',\n",
    "       'DRVGR2020_RV.Graduation rate - Bachelor degree within 6 years, Asian/Native Hawaiian/Pacific Islander': 'Graduation Rate (6 Years) - Asian/Native Hawaiian/Pacific Islander',\n",
    "       'DRVGR2020_RV.Graduation rate - Bachelor degree within 6 years, Asian': 'Graduation Rate (6 Years) - Asian',\n",
    "       'DRVGR2020_RV.Graduation rate - Bachelor degree within 6 years, Native Hawaiian or Other Pacific Islander': 'Graduation Rate (6 Years) - Native Hawaiian or Other Pacific Islander',\n",
    "       'DRVGR2020_RV.Graduation rate - Bachelor degree within 6 years, Black, non-Hispanic': 'Graduation Rate (6 Years) - Black, non-Hispanic',\n",
    "       'DRVGR2020_RV.Graduation rate - Bachelor degree within 6 years, Hispanic': 'Graduation Rate (6 Years) - Hispanic',\n",
    "       'DRVGR2020_RV.Graduation rate - Bachelor degree within 6 years, White, non-Hispanic': 'Graduation Rate (6 Years) - White, non-Hispanic',\n",
    "       'DRVGR2020_RV.Graduation rate - Bachelor degree within 6 years, two or more races': 'Graduation Rate (6 Years) - Two or more races',\n",
    "       'DRVGR2020_RV.Graduation rate - Bachelor degree within 6 years, Race/ethnicity unknown': 'Graduation Rate (6 Years) - Race/ethnicity unknown',\n",
    "       'DRVGR2020_RV.Graduation rate - Bachelor degree within 6 years, Nonresident alien': 'Graduation Rate (6 Years) - Nonresident alien',\n",
    "       \"DRVGR2020_RV.Pell Grant recipients - Bachelor's degree rate within 6 years\": \"Graduation Rate (6 Years) - Pell Grant\"})"
   ]
  },
  {
   "cell_type": "code",
   "execution_count": 65,
   "id": "616a4024-c554-458f-8775-1c6efde9704f",
   "metadata": {
    "scrolled": true
   },
   "outputs": [
    {
     "data": {
      "text/plain": [
       "Index(['ID', 'Institution Name', 'Year', 'State Abbreviation',\n",
       "       'Institution Sector', 'HBCU', 'FT Undergraduate Enrollment',\n",
       "       'Percent of Enrollment - American Indian or Alaska Native',\n",
       "       'Percent of Enrollment - Asian',\n",
       "       'Percent of Enrollment - Black or African American',\n",
       "       'Percent of Enrollment - Hispanic/Latino',\n",
       "       'Percent of Enrollment - Native Hawaiian or Other Pacific Islander',\n",
       "       'Percent of Enrollment - White',\n",
       "       'Percent of Enrollment - Two or More Races',\n",
       "       'Percent of Enrollment - Race/ethnicity unknown',\n",
       "       'Percent of Enrollment - Nonresident Alien',\n",
       "       'Percent of Enrollment - Asian/Native Hawaiian/Pacific Islander',\n",
       "       'Percent of Enrollment - Women', 'FT Retention Rate',\n",
       "       'Graduation Rate (6 Years) - Total', 'Graduation Rate (6 Years) - Men',\n",
       "       'Graduation Rate (6 Years) - Women',\n",
       "       'Graduation Rate (6 Years) - American Indian or Alaska Native',\n",
       "       'Graduation Rate (6 Years) - Asian/Native Hawaiian/Pacific Islander',\n",
       "       'Graduation Rate (6 Years) - Asian',\n",
       "       'Graduation Rate (6 Years) - Native Hawaiian or Other Pacific Islander',\n",
       "       'Graduation Rate (6 Years) - Black, non-Hispanic',\n",
       "       'Graduation Rate (6 Years) - Hispanic',\n",
       "       'Graduation Rate (6 Years) - White, non-Hispanic',\n",
       "       'Graduation Rate (6 Years) - Two or more races',\n",
       "       'Graduation Rate (6 Years) - Race/ethnicity unknown',\n",
       "       'Graduation Rate (6 Years) - Nonresident alien',\n",
       "       'Graduation Rate (6 Years) - Pell Grant'],\n",
       "      dtype='object')"
      ]
     },
     "execution_count": 65,
     "metadata": {},
     "output_type": "execute_result"
    }
   ],
   "source": [
    "data_2020.columns"
   ]
  },
  {
   "cell_type": "code",
   "execution_count": 24,
   "id": "bfa2fd62-618d-449e-8695-50cf5658cdcb",
   "metadata": {},
   "outputs": [
    {
     "data": {
      "text/plain": [
       "(149, 33)"
      ]
     },
     "execution_count": 24,
     "metadata": {},
     "output_type": "execute_result"
    }
   ],
   "source": [
    "data_2020.shape"
   ]
  },
  {
   "cell_type": "code",
   "execution_count": 8,
   "id": "4be318c1-7e9b-479b-b7a6-85cbcad41216",
   "metadata": {},
   "outputs": [],
   "source": [
    "data_2021 = data_2021.rename(columns={'unitid': 'ID', 'institution name': 'Institution Name', 'year':'Year', 'HD2021.State abbreviation':'State Abbreviation',\n",
    "       'HD2021.Sector of institution': 'Institution Sector',\n",
    "       'HD2021.Historically Black College or University': 'HBCU',\n",
    "       'DRVEF2021_RV.Full-time undergraduate enrollment': 'FT Undergraduate Enrollment',\n",
    "       'DRVEF2021_RV.Percent of undergraduate enrollment that are American Indian or Alaska Native': 'Percent of Enrollment - American Indian or Alaska Native',\n",
    "       'DRVEF2021_RV.Percent of undergraduate enrollment that are Asian': 'Percent of Enrollment - Asian',\n",
    "       'DRVEF2021_RV.Percent of undergraduate enrollment that are Black or African American': 'Percent of Enrollment - Black or African American',\n",
    "       'DRVEF2021_RV.Percent of undergraduate enrollment that are Hispanic/Latino': 'Percent of Enrollment - Hispanic/Latino',\n",
    "       'DRVEF2021_RV.Percent of undergraduate enrollment that are Native Hawaiian or Other Pacific Islander' : 'Percent of Enrollment - Native Hawaiian or Other Pacific Islander',\n",
    "       'DRVEF2021_RV.Percent of undergraduate enrollment that are White': 'Percent of Enrollment - White',\n",
    "       'DRVEF2021_RV.Percent of undergraduate enrollment that are two or more races': 'Percent of Enrollment - Two or More Races',\n",
    "       'DRVEF2021_RV.Percent of undergraduate enrollment that are Race/ethnicity unknown': 'Percent of Enrollment - Race/ethnicity unknown',\n",
    "       'DRVEF2021_RV.Percent of undergraduate enrollment that are Nonresident Alien': 'Percent of Enrollment - Nonresident Alien',\n",
    "       'DRVEF2021_RV.Percent of undergraduate enrollment that are Asian/Native Hawaiian/Pacific Islander' : 'Percent of Enrollment - Asian/Native Hawaiian/Pacific Islander',\n",
    "       'DRVEF2021_RV.Percent of undergraduate enrollment that are women' : 'Percent of Enrollment - Women',\n",
    "       'EF2021D_RV.Full-time retention rate, 2021' : 'FT Retention Rate',\n",
    "       'DRVGR2021_RV.Graduation rate - Bachelor degree within 6 years, total': 'Graduation Rate (6 Years) - Total',\n",
    "       'DRVGR2021_RV.Graduation rate - Bachelor degree within 6 years, men': 'Graduation Rate (6 Years) - Men',\n",
    "       'DRVGR2021_RV.Graduation rate - Bachelor degree within 6 years, women': 'Graduation Rate (6 Years) - Women',\n",
    "       'DRVGR2021_RV.Graduation rate - Bachelor degree within 6 years, American Indian or Alaska Native': 'Graduation Rate (6 Years) - American Indian or Alaska Native',\n",
    "       'DRVGR2021_RV.Graduation rate - Bachelor degree within 6 years, Asian/Native Hawaiian/Pacific Islander': 'Graduation Rate (6 Years) - Asian/Native Hawaiian/Pacific Islander',\n",
    "       'DRVGR2021_RV.Graduation rate - Bachelor degree within 6 years, Asian': 'Graduation Rate (6 Years) - Asian',\n",
    "       'DRVGR2021_RV.Graduation rate - Bachelor degree within 6 years, Native Hawaiian or Other Pacific Islander': 'Graduation Rate (6 Years) - Native Hawaiian or Other Pacific Islander',\n",
    "       'DRVGR2021_RV.Graduation rate - Bachelor degree within 6 years, Black, non-Hispanic': 'Graduation Rate (6 Years) - Black, non-Hispanic',\n",
    "       'DRVGR2021_RV.Graduation rate - Bachelor degree within 6 years, Hispanic': 'Graduation Rate (6 Years) - Hispanic',\n",
    "       'DRVGR2021_RV.Graduation rate - Bachelor degree within 6 years, White, non-Hispanic': 'Graduation Rate (6 Years) - White, non-Hispanic',\n",
    "       'DRVGR2021_RV.Graduation rate - Bachelor degree within 6 years, two or more races': 'Graduation Rate (6 Years) - Two or more races',\n",
    "       'DRVGR2021_RV.Graduation rate - Bachelor degree within 6 years, Race/ethnicity unknown': 'Graduation Rate (6 Years) - Race/ethnicity unknown',\n",
    "       'DRVGR2021_RV.Graduation rate - Bachelor degree within 6 years, Nonresident alien': 'Graduation Rate (6 Years) - Nonresident alien',\n",
    "       \"DRVGR2021_RV.Pell Grant recipients - Bachelor's degree rate within 6 years\": \"Graduation Rate (6 Years) - Pell Grant\"})"
   ]
  },
  {
   "cell_type": "code",
   "execution_count": 67,
   "id": "01201f44-0207-4715-a43e-82d37cdddf76",
   "metadata": {
    "scrolled": true
   },
   "outputs": [
    {
     "data": {
      "text/plain": [
       "Index(['ID', 'Institution Name', 'Year', 'State Abbreviation',\n",
       "       'Institution Sector', 'HBCU', 'FT Undergraduate Enrollment',\n",
       "       'Percent of Enrollment - American Indian or Alaska Native',\n",
       "       'Percent of Enrollment - Asian',\n",
       "       'Percent of Enrollment - Black or African American',\n",
       "       'Percent of Enrollment - Hispanic/Latino',\n",
       "       'Percent of Enrollment - Native Hawaiian or Other Pacific Islander',\n",
       "       'Percent of Enrollment - White',\n",
       "       'Percent of Enrollment - Two or More Races',\n",
       "       'Percent of Enrollment - Race/ethnicity unknown',\n",
       "       'Percent of Enrollment - Nonresident Alien',\n",
       "       'Percent of Enrollment - Asian/Native Hawaiian/Pacific Islander',\n",
       "       'Percent of Enrollment - Women', 'FT Retention Rate',\n",
       "       'Graduation Rate (6 Years) - Total', 'Graduation Rate (6 Years) - Men',\n",
       "       'Graduation Rate (6 Years) - Women',\n",
       "       'Graduation Rate (6 Years) - American Indian or Alaska Native',\n",
       "       'Graduation Rate (6 Years) - Asian/Native Hawaiian/Pacific Islander',\n",
       "       'Graduation Rate (6 Years) - Asian',\n",
       "       'Graduation Rate (6 Years) - Native Hawaiian or Other Pacific Islander',\n",
       "       'Graduation Rate (6 Years) - Black, non-Hispanic',\n",
       "       'Graduation Rate (6 Years) - Hispanic',\n",
       "       'Graduation Rate (6 Years) - White, non-Hispanic',\n",
       "       'Graduation Rate (6 Years) - Two or more races',\n",
       "       'Graduation Rate (6 Years) - Race/ethnicity unknown',\n",
       "       'Graduation Rate (6 Years) - Nonresident alien',\n",
       "       'Graduation Rate (6 Years) - Pell Grant'],\n",
       "      dtype='object')"
      ]
     },
     "execution_count": 67,
     "metadata": {},
     "output_type": "execute_result"
    }
   ],
   "source": [
    "data_2021.columns"
   ]
  },
  {
   "cell_type": "code",
   "execution_count": 26,
   "id": "e316a32c-8b22-4ec4-8434-a31e39257be1",
   "metadata": {},
   "outputs": [
    {
     "data": {
      "text/plain": [
       "(149, 33)"
      ]
     },
     "execution_count": 26,
     "metadata": {},
     "output_type": "execute_result"
    }
   ],
   "source": [
    "data_2021.shape"
   ]
  },
  {
   "cell_type": "code",
   "execution_count": 9,
   "id": "3ccdb7d4-dc53-4355-8217-a96ddbad9090",
   "metadata": {},
   "outputs": [],
   "source": [
    "data_2022 = data_2022.rename(columns={'unitid': 'ID', 'institution name': 'Institution Name', 'year':'Year', 'HD2022.State abbreviation':'State Abbreviation',\n",
    "       'HD2022.Sector of institution': 'Institution Sector',\n",
    "       'HD2022.Historically Black College or University': 'HBCU',\n",
    "       'DRVEF2022.Full-time undergraduate enrollment': 'FT Undergraduate Enrollment',\n",
    "       'DRVEF2022.Percent of undergraduate enrollment that are American Indian or Alaska Native': 'Percent of Enrollment - American Indian or Alaska Native',\n",
    "       'DRVEF2022.Percent of undergraduate enrollment that are Asian': 'Percent of Enrollment - Asian',\n",
    "       'DRVEF2022.Percent of undergraduate enrollment that are Black or African American': 'Percent of Enrollment - Black or African American',\n",
    "       'DRVEF2022.Percent of undergraduate enrollment that are Hispanic/Latino': 'Percent of Enrollment - Hispanic/Latino',\n",
    "       'DRVEF2022.Percent of undergraduate enrollment that are Native Hawaiian or Other Pacific Islander' : 'Percent of Enrollment - Native Hawaiian or Other Pacific Islander',\n",
    "       'DRVEF2022.Percent of undergraduate enrollment that are White': 'Percent of Enrollment - White',\n",
    "       'DRVEF2022.Percent of undergraduate enrollment that are two or more races': 'Percent of Enrollment - Two or More Races',\n",
    "       'DRVEF2022.Percent of undergraduate enrollment that are Race/ethnicity unknown': 'Percent of Enrollment - Race/ethnicity unknown',\n",
    "       'DRVEF2022.Percent of undergraduate enrollment that are U.S. Nonresident': 'Percent of Enrollment - Nonresident Alien',\n",
    "       'DRVEF2022.Percent of undergraduate enrollment that are Asian/Native Hawaiian/Pacific Islander' : 'Percent of Enrollment - Asian/Native Hawaiian/Pacific Islander',\n",
    "       'DRVEF2022.Percent of undergraduate enrollment that are women' : 'Percent of Enrollment - Women',\n",
    "       'EF2022D.Full-time retention rate, 2022' : 'FT Retention Rate',\n",
    "       'DRVGR2022.Graduation rate - Bachelor degree within 6 years, total': 'Graduation Rate (6 Years) - Total',\n",
    "       'DRVGR2022.Graduation rate - Bachelor degree within 6 years, men': 'Graduation Rate (6 Years) - Men',\n",
    "       'DRVGR2022.Graduation rate - Bachelor degree within 6 years, women': 'Graduation Rate (6 Years) - Women',\n",
    "       'DRVGR2022.Graduation rate - Bachelor degree within 6 years, American Indian or Alaska Native': 'Graduation Rate (6 Years) - American Indian or Alaska Native',\n",
    "       'DRVGR2022.Graduation rate - Bachelor degree within 6 years, Asian/Native Hawaiian/Pacific Islander': 'Graduation Rate (6 Years) - Asian/Native Hawaiian/Pacific Islander',\n",
    "       'DRVGR2022.Graduation rate - Bachelor degree within 6 years, Asian': 'Graduation Rate (6 Years) - Asian',\n",
    "       'DRVGR2022.Graduation rate - Bachelor degree within 6 years, Native Hawaiian or Other Pacific Islander': 'Graduation Rate (6 Years) - Native Hawaiian or Other Pacific Islander',\n",
    "       'DRVGR2022.Graduation rate - Bachelor degree within 6 years, Black, non-Hispanic': 'Graduation Rate (6 Years) - Black, non-Hispanic',\n",
    "       'DRVGR2022.Graduation rate - Bachelor degree within 6 years, Hispanic': 'Graduation Rate (6 Years) - Hispanic',\n",
    "       'DRVGR2022.Graduation rate - Bachelor degree within 6 years, White, non-Hispanic': 'Graduation Rate (6 Years) - White, non-Hispanic',\n",
    "       'DRVGR2022.Graduation rate - Bachelor degree within 6 years, two or more races': 'Graduation Rate (6 Years) - Two or more races',\n",
    "       'DRVGR2022.Graduation rate - Bachelor degree within 6 years, Race/ethnicity unknown': 'Graduation Rate (6 Years) - Race/ethnicity unknown',\n",
    "       'DRVGR2022.Graduation rate - Bachelor degree within 6 years, U.S. Nonresident': 'Graduation Rate (6 Years) - Nonresident alien',\n",
    "       \"DRVGR2022.Pell Grant recipients - Bachelor's degree rate within 6 years\": \"Graduation Rate (6 Years) - Pell Grant\"})"
   ]
  },
  {
   "cell_type": "code",
   "execution_count": 96,
   "id": "86c0b664-746a-4b01-9c81-832cbc97043d",
   "metadata": {},
   "outputs": [
    {
     "data": {
      "text/plain": [
       "Index(['ID', 'Institution Name', 'Year', 'State Abbreviation',\n",
       "       'Institution Sector', 'HBCU', 'FT Undergraduate Enrollment',\n",
       "       'Percent of Enrollment - American Indian or Alaska Native',\n",
       "       'Percent of Enrollment - Asian',\n",
       "       'Percent of Enrollment - Black or African American',\n",
       "       'Percent of Enrollment - Hispanic/Latino',\n",
       "       'Percent of Enrollment - Native Hawaiian or Other Pacific Islander',\n",
       "       'Percent of Enrollment - White',\n",
       "       'Percent of Enrollment - Two or More Races',\n",
       "       'Percent of Enrollment - Race/ethnicity unknown',\n",
       "       'Percent of Enrollment - Nonresident Alien',\n",
       "       'Percent of Enrollment - Asian/Native Hawaiian/Pacific Islander',\n",
       "       'Percent of Enrollment - Women', 'FT Retention Rate',\n",
       "       'Graduation Rate (6 Years) - Total', 'Graduation Rate (6 Years) - Men',\n",
       "       'Graduation Rate (6 Years) - Women',\n",
       "       'Graduation Rate (6 Years) - American Indian or Alaska Native',\n",
       "       'Graduation Rate (6 Years) - Asian/Native Hawaiian/Pacific Islander',\n",
       "       'Graduation Rate (6 Years) - Asian',\n",
       "       'Graduation Rate (6 Years) - Native Hawaiian or Other Pacific Islander',\n",
       "       'Graduation Rate (6 Years) - Black, non-Hispanic',\n",
       "       'Graduation Rate (6 Years) - Hispanic',\n",
       "       'Graduation Rate (6 Years) - White, non-Hispanic',\n",
       "       'Graduation Rate (6 Years) - Two or more races',\n",
       "       'Graduation Rate (6 Years) - Race/ethnicity unknown',\n",
       "       'Graduation Rate (6 Years) - Nonresident alien',\n",
       "       'Graduation Rate (6 Years) - Pell Grant'],\n",
       "      dtype='object')"
      ]
     },
     "execution_count": 96,
     "metadata": {},
     "output_type": "execute_result"
    }
   ],
   "source": [
    "data_2022.columns"
   ]
  },
  {
   "cell_type": "code",
   "execution_count": 97,
   "id": "4cdf78cd-1f2f-4dff-9584-77a294169a2b",
   "metadata": {},
   "outputs": [
    {
     "data": {
      "text/plain": [
       "(149, 33)"
      ]
     },
     "execution_count": 97,
     "metadata": {},
     "output_type": "execute_result"
    }
   ],
   "source": [
    "data_2022.shape"
   ]
  },
  {
   "cell_type": "code",
   "execution_count": 10,
   "id": "95ad1942-2368-41d8-aa0a-5dc889e74e4b",
   "metadata": {},
   "outputs": [],
   "source": [
    "all_data = pd.concat([data_2019,data_2020,data_2021,data_2022])"
   ]
  },
  {
   "cell_type": "code",
   "execution_count": 120,
   "id": "2a820611-b024-40f5-aae7-4d054f117e70",
   "metadata": {},
   "outputs": [
    {
     "data": {
      "text/plain": [
       "Index(['ID', 'Institution Name', 'Year', 'State Abbreviation',\n",
       "       'Institution Sector', 'HBCU', 'FT Undergraduate Enrollment',\n",
       "       'Percent of Enrollment - American Indian or Alaska Native',\n",
       "       'Percent of Enrollment - Asian',\n",
       "       'Percent of Enrollment - Black or African American',\n",
       "       'Percent of Enrollment - Hispanic/Latino',\n",
       "       'Percent of Enrollment - Native Hawaiian or Other Pacific Islander',\n",
       "       'Percent of Enrollment - White',\n",
       "       'Percent of Enrollment - Two or More Races',\n",
       "       'Percent of Enrollment - Race/ethnicity unknown',\n",
       "       'Percent of Enrollment - Nonresident Alien',\n",
       "       'Percent of Enrollment - Asian/Native Hawaiian/Pacific Islander',\n",
       "       'Percent of Enrollment - Women', 'FT Retention Rate',\n",
       "       'Graduation Rate (6 Years) - Total', 'Graduation Rate (6 Years) - Men',\n",
       "       'Graduation Rate (6 Years) - Women',\n",
       "       'Graduation Rate (6 Years) - American Indian or Alaska Native',\n",
       "       'Graduation Rate (6 Years) - Asian/Native Hawaiian/Pacific Islander',\n",
       "       'Graduation Rate (6 Years) - Asian',\n",
       "       'Graduation Rate (6 Years) - Native Hawaiian or Other Pacific Islander',\n",
       "       'Graduation Rate (6 Years) - Black, non-Hispanic',\n",
       "       'Graduation Rate (6 Years) - Hispanic',\n",
       "       'Graduation Rate (6 Years) - White, non-Hispanic',\n",
       "       'Graduation Rate (6 Years) - Two or more races',\n",
       "       'Graduation Rate (6 Years) - Race/ethnicity unknown',\n",
       "       'Graduation Rate (6 Years) - Nonresident alien',\n",
       "       'Graduation Rate (6 Years) - Pell Grant'],\n",
       "      dtype='object')"
      ]
     },
     "execution_count": 120,
     "metadata": {},
     "output_type": "execute_result"
    }
   ],
   "source": [
    "all_data.columns"
   ]
  },
  {
   "cell_type": "code",
   "execution_count": 100,
   "id": "a2e17bdf-3f97-450f-ade2-97d98e97cc44",
   "metadata": {},
   "outputs": [
    {
     "data": {
      "text/plain": [
       "(596, 33)"
      ]
     },
     "execution_count": 100,
     "metadata": {},
     "output_type": "execute_result"
    }
   ],
   "source": [
    "all_data.shape"
   ]
  },
  {
   "cell_type": "code",
   "execution_count": 11,
   "id": "c3e9f350-2560-4d12-acdf-cd50777179be",
   "metadata": {},
   "outputs": [],
   "source": [
    "all_data['Number Enrollment - American Indian or Alaska Native'] = all_data['Percent of Enrollment - American Indian or Alaska Native']/100.0 * all_data['FT Undergraduate Enrollment']\n",
    "all_data['Number Enrollment - American Indian or Alaska Native'] = all_data['Percent of Enrollment - American Indian or Alaska Native']/100.0 * all_data['FT Undergraduate Enrollment']\n",
    "all_data['Number Enrollment - Asian'] = all_data['Percent of Enrollment - Asian']/100.0 * all_data['FT Undergraduate Enrollment']\n",
    "all_data['Number Enrollment - Black or African American'] = all_data['Percent of Enrollment - Black or African American']/100.0 * all_data['FT Undergraduate Enrollment']\n",
    "all_data['Number Enrollment - Hispanic/Latino'] = all_data['Percent of Enrollment - Hispanic/Latino']/100.0 * all_data['FT Undergraduate Enrollment']\n",
    "all_data['Number Enrollment - Native Hawaiian or Other Pacific Islander'] = all_data['Percent of Enrollment - Native Hawaiian or Other Pacific Islander']/100.0 * all_data['FT Undergraduate Enrollment']\n",
    "all_data['Number Enrollment - White'] = all_data['Percent of Enrollment - White']/100.0 * all_data['FT Undergraduate Enrollment']\n",
    "all_data['Number Enrollment - Two or More Races'] = all_data['Percent of Enrollment - Two or More Races']/100.0 * all_data['FT Undergraduate Enrollment']\n",
    "all_data['Number Enrollment - Race/ethnicity unknown'] = all_data['Percent of Enrollment - Race/ethnicity unknown']/100.0 * all_data['FT Undergraduate Enrollment']\n",
    "all_data['Number Enrollment - Nonresident Alien'] = all_data['Percent of Enrollment - Nonresident Alien']/100.0 * all_data['FT Undergraduate Enrollment']\n",
    "all_data['Number Enrollment - Asian/Native Hawaiian/Pacific Islander'] = all_data['Percent of Enrollment - Asian/Native Hawaiian/Pacific Islander']/100.0 * all_data['FT Undergraduate Enrollment']\n",
    "all_data['Number Enrollment - Women'] = all_data['Percent of Enrollment - Women']/100.0 * all_data['FT Undergraduate Enrollment']"
   ]
  },
  {
   "cell_type": "code",
   "execution_count": 106,
   "id": "6dcbef21-1a2f-462d-85fa-99a1254989ce",
   "metadata": {},
   "outputs": [],
   "source": [
    "# all_data['Graduation Number (6 Years) - Men'] = all_data['Graduation Rate (6 Years) - Men']/100 * all_data['Graduation Rate (6 Years) - Total']\n",
    "# all_data['Graduation Number (6 Years) - Women'] = all_data['Graduation Rate (6 Years) - Women']/100 * all_data['Graduation Rate (6 Years) - Total']\n",
    "# all_data['Graduation Number (6 Years) - American Indian or Alaska Native'] = all_data['Graduation Rate (6 Years) - American Indian or Alaska Native']/100 * all_data['Graduation Rate (6 Years) - Total']\n",
    "# all_data['Graduation Number (6 Years) - Asian/Native Hawaiian/Pacific Islander'] = all_data['Graduation Rate (6 Years) - Asian/Native Hawaiian/Pacific Islander']/100 * all_data['Graduation Rate (6 Years) - Total']\n",
    "# all_data['Graduation Number (6 Years) - Asian'] = all_data['Graduation Rate (6 Years) - Asian']/100 * all_data['Graduation Rate (6 Years) - Total']\n",
    "# all_data['Graduation Number (6 Years) - Native Hawaiian or Other Pacific Islander'] = all_data['Graduation Rate (6 Years) - Native Hawaiian or Other Pacific Islander']/100 * all_data['Graduation Rate (6 Years) - Total']\n",
    "# all_data['Graduation Number (6 Years) - Black, non-Hispanic'] = all_data['Graduation Rate (6 Years) - Black, non-Hispanic']/100 * all_data['Graduation Rate (6 Years) - Total']\n",
    "# all_data['Graduation Number (6 Years) - Hispanic'] = all_data['Graduation Rate (6 Years) - Hispanic']/100 * all_data['Graduation Rate (6 Years) - Total']\n",
    "# all_data['Graduation Number (6 Years) - White, non-Hispanic'] = all_data['Graduation Rate (6 Years) - White, non-Hispanic']/100 * all_data['Graduation Rate (6 Years) - Total']\n",
    "# all_data['Graduation Number (6 Years) - Two or more races'] = all_data['Graduation Rate (6 Years) - Two or more races']/100 * all_data['Graduation Rate (6 Years) - Total']\n",
    "# all_data['Graduation Number (6 Years) - Race/ethnicity unknown'] = all_data['Graduation Rate (6 Years) - Race/ethnicity unknown']/100 * all_data['Graduation Rate (6 Years) - Total']\n",
    "# all_data['Graduation Number (6 Years) - Nonresident alien'] = all_data['Graduation Rate (6 Years) - Nonresident alien']/100 * all_data['Graduation Rate (6 Years) - Total']\n",
    "# all_data['Graduation Number (6 Years) - Pell Grant'] = all_data['Graduation Rate (6 Years) - Pell Grant']/100 * all_data['Graduation Rate (6 Years) - Total']"
   ]
  },
  {
   "cell_type": "code",
   "execution_count": 14,
   "id": "67eff3ba-855c-4372-8674-d0111df950dd",
   "metadata": {},
   "outputs": [],
   "source": [
    "all_data['Percent of Enrollment - Men'] = 100 - all_data['Percent of Enrollment - Women']"
   ]
  },
  {
   "cell_type": "code",
   "execution_count": 15,
   "id": "784a5075-3b93-42da-9013-1e20676f795e",
   "metadata": {},
   "outputs": [],
   "source": [
    "all_data['Number Enrollment - Men'] = all_data['Percent of Enrollment - Men']/100 * all_data['FT Undergraduate Enrollment']"
   ]
  },
  {
   "cell_type": "code",
   "execution_count": 17,
   "id": "4c4481c1-fe24-4fb2-9608-a8f5994e15cc",
   "metadata": {},
   "outputs": [],
   "source": [
    "all_data.to_excel(\"C:/Users/marya/Documents/DA11/Python/projects/TNEducationCapstone/data/Capstone All Data_2022.xlsx\")"
   ]
  },
  {
   "cell_type": "markdown",
   "id": "3e05ca63-8c28-4bef-86e1-0f03ddb41b33",
   "metadata": {},
   "source": [
    "### Distance Learning"
   ]
  },
  {
   "cell_type": "code",
   "execution_count": 20,
   "id": "a3a5460b-0b1d-4066-9460-ae253388e000",
   "metadata": {},
   "outputs": [],
   "source": [
    "dist_2019 = pd.read_excel(\"C:/Users/marya/Documents/DA11/Python/projects/TNEducationCapstone/data/Capstone Data_DL_2019.xlsx\")"
   ]
  },
  {
   "cell_type": "code",
   "execution_count": 21,
   "id": "95502c55-fad0-4a8c-a188-ecbf98f9eb6f",
   "metadata": {},
   "outputs": [],
   "source": [
    "dist_2020 = pd.read_excel(\"C:/Users/marya/Documents/DA11/Python/projects/TNEducationCapstone/data/Capstone Data_DL_2020.xlsx\")"
   ]
  },
  {
   "cell_type": "code",
   "execution_count": 31,
   "id": "310fd11d-f71f-4171-a5d2-92e608fd303e",
   "metadata": {},
   "outputs": [],
   "source": [
    "dist_2021 = pd.read_excel(\"C:/Users/marya/Documents/DA11/Python/projects/TNEducationCapstone/data/Capstone Data_DL_2021.xlsx\")"
   ]
  },
  {
   "cell_type": "code",
   "execution_count": 30,
   "id": "a267f57a-aece-4877-bc6a-ea3b2ccfee89",
   "metadata": {},
   "outputs": [],
   "source": [
    "dist_2022 = pd.read_excel(\"C:/Users/marya/Documents/DA11/Python/projects/TNEducationCapstone/data/Capstone Data_DL_2022.xlsx\")"
   ]
  },
  {
   "cell_type": "code",
   "execution_count": 26,
   "id": "7f73ff24-9b1f-4a47-a2f3-30ed83fad32d",
   "metadata": {},
   "outputs": [],
   "source": [
    "udg_2019 = dist_2019[dist_2019[\"EF2019A_DIST.Level of student\"]==\"Undergraduate total\"]"
   ]
  },
  {
   "cell_type": "code",
   "execution_count": 27,
   "id": "1d7c9c11-e9b0-45b5-a268-ee87dee3a6af",
   "metadata": {},
   "outputs": [],
   "source": [
    "udg_2020 = dist_2020[dist_2020[\"EF2020A_DIST.Level of student\"]==\"Undergraduate total\"]"
   ]
  },
  {
   "cell_type": "code",
   "execution_count": 33,
   "id": "a46fb4ac-837f-4fd3-b5ea-0263df44cbdf",
   "metadata": {},
   "outputs": [],
   "source": [
    "udg_2021 = dist_2021[dist_2021[\"EF2021A_DIST.Level of student\"]==\"Undergraduate total\"]"
   ]
  },
  {
   "cell_type": "code",
   "execution_count": 34,
   "id": "7313a648-1bc6-4705-a1e8-8e122cafb34e",
   "metadata": {
    "scrolled": true
   },
   "outputs": [],
   "source": [
    "udg_2022 = dist_2022[dist_2022[\"EF2022A_DIST.Level of student\"]==\"Undergraduate total\"]"
   ]
  },
  {
   "cell_type": "code",
   "execution_count": 46,
   "id": "26de44f1-cb88-417a-8688-ad9272b28739",
   "metadata": {},
   "outputs": [],
   "source": [
    "udg_2019 = udg_2019.rename(columns={'unitid':'ID', 'institution name':'Institution Name','year':'Year','EF2019A_DIST_RV.Level of student': 'Level', 'EF2019A_DIST_RV.All students enrolled':'Students Enrolled',\n",
    "'EF2019A_DIST_RV.Students enrolled exclusively in distance education courses': 'Exclusively Distance','EF2019A_DIST_RV.Students enrolled in some but not all distance education courses':'Some Distance',\n",
    "'EF2019A_DIST_RV.Student not enrolled in any distance education courses':'No Distance',\n",
    "'EF2019A_DIST_RV.Students enrolled exclusively in distance education courses and are located in same state/jurisdiction as institution':'Exclusively Distance, Same State',\n",
    "'EF2019A_DIST_RV.Students enrolled exclusively in distance education courses and are located in U.S., not in same state/jurisdiction as institution':'Exclusively Distance, Not Same State',\n",
    "'EF2019A_DIST_RV.Students enrolled exclusively in distance education courses and are located in U.S., state/jurisdiction unknown':'Exclusively Distance, US, State Unknown',\n",
    "'EF2019A_DIST_RV.Students enrolled exclusively in distance education courses and are located outside U.S.':'Exclusively Distance, Outside U.S.',\n",
    "'EF2019A_DIST_RV.Students enrolled exclusively in distance education courses and location of student unknown/not reported':'Exclusively Distance, Unknown Location or Not Reported',\n",
    "'IDX_EF':'IDX'})"
   ]
  },
  {
   "cell_type": "code",
   "execution_count": 49,
   "id": "d86c702f-f19f-4c52-9691-d9fddcf4f8a1",
   "metadata": {},
   "outputs": [],
   "source": [
    "udg_2020 = udg_2020.rename(columns={'unitid':'ID', 'institution name':'Institution Name','year':'Year','EF2020A_DIST_RV.Level of student': 'Level', 'EF2020A_DIST_RV.All students enrolled':'Students Enrolled',\n",
    "'EF2020A_DIST_RV.Students enrolled exclusively in distance education courses': 'Exclusively Distance','EF2020A_DIST_RV.Students enrolled in some but not all distance education courses':'Some Distance',\n",
    "'EF2020A_DIST_RV.Student not enrolled in any distance education courses':'No Distance',\n",
    "'EF2020A_DIST_RV.Students enrolled exclusively in distance education courses and are located in same state/jurisdiction as institution':'Exclusively Distance, Same State',\n",
    "'EF2020A_DIST_RV.Students enrolled exclusively in distance education courses and are located in U.S., not in same state/jurisdiction as institution':'Exclusively Distance, Not Same State',\n",
    "'EF2020A_DIST_RV.Students enrolled exclusively in distance education courses and are located in U.S., state/jurisdiction unknown':'Exclusively Distance, US, State Unknown',\n",
    "'EF2020A_DIST_RV.Students enrolled exclusively in distance education courses and are located outside U.S.':'Exclusively Distance, Outside U.S.',\n",
    "'EF2020A_DIST_RV.Students enrolled exclusively in distance education courses and location of student unknown/not reported':'Exclusively Distance, Unknown Location or Not Reported',\n",
    "'IDX_EF':'IDX'})"
   ]
  },
  {
   "cell_type": "code",
   "execution_count": 52,
   "id": "f09145df-999b-454c-ab5a-fcf39a355545",
   "metadata": {},
   "outputs": [],
   "source": [
    "udg_2021 = udg_2021.rename(columns={'unitid':'ID', 'institution name':'Institution Name','year':'Year','EF2021A_DIST_RV.Level of student': 'Level', 'EF2021A_DIST_RV.All students enrolled':'Students Enrolled',\n",
    "'EF2021A_DIST_RV.Students enrolled exclusively in distance education courses': 'Exclusively Distance','EF2021A_DIST_RV.Students enrolled in some but not all distance education courses':'Some Distance',\n",
    "'EF2021A_DIST_RV.Student not enrolled in any distance education courses':'No Distance',\n",
    "'EF2021A_DIST_RV.Students enrolled exclusively in distance education courses and are located in same state/jurisdiction as institution':'Exclusively Distance, Same State',\n",
    "'EF2021A_DIST_RV.Students enrolled exclusively in distance education courses and are located in U.S., not in same state/jurisdiction as institution':'Exclusively Distance, Not Same State',\n",
    "'EF2021A_DIST_RV.Students enrolled exclusively in distance education courses and are located in U.S., state/jurisdiction unknown':'Exclusively Distance, US, State Unknown',\n",
    "'EF2021A_DIST_RV.Students enrolled exclusively in distance education courses and are located outside U.S.':'Exclusively Distance, Outside U.S.',\n",
    "'EF2021A_DIST_RV.Students enrolled exclusively in distance education courses and location of student unknown/not reported':'Exclusively Distance, Unknown Location or Not Reported',\n",
    "'IDX_EF':'IDX'})"
   ]
  },
  {
   "cell_type": "code",
   "execution_count": 43,
   "id": "f646265b-46af-4489-b106-be1b136e4e9c",
   "metadata": {},
   "outputs": [],
   "source": [
    "udg_2022 = udg_2022.rename(columns={'unitid':'ID', 'institution name':'Institution Name','year':'Year','EF2022A_DIST.Level of student': 'Level', 'EF2022A_DIST.All students enrolled':'Students Enrolled',\n",
    "'EF2022A_DIST.Students enrolled exclusively in distance education courses': 'Exclusively Distance','EF2022A_DIST.Students enrolled in some but not all distance education courses':'Some Distance',\n",
    "'EF2022A_DIST.Student not enrolled in any distance education courses':'No Distance',\n",
    "'EF2022A_DIST.Students enrolled exclusively in distance education courses and are located in same state/jurisdiction as institution':'Exclusively Distance, Same State',\n",
    "'EF2022A_DIST.Students enrolled exclusively in distance education courses and are located in U.S., not in same state/jurisdiction as institution':'Exclusively Distance, Not Same State',\n",
    "'EF2022A_DIST.Students enrolled exclusively in distance education courses and are located in U.S., state/jurisdiction unknown':'Exclusively Distance, US, State Unknown',\n",
    "'EF2022A_DIST.Students enrolled exclusively in distance education courses and are located outside U.S.':'Exclusively Distance, Outside U.S.',\n",
    "'EF2022A_DIST.Students enrolled exclusively in distance education courses and location of student unknown/not reported':'Exclusively Distance, Unknown Location or Not Reported',\n",
    "'IDX_EF':'IDX'})"
   ]
  },
  {
   "cell_type": "code",
   "execution_count": 57,
   "id": "aa465e93-342f-475a-a43c-d3f80c359748",
   "metadata": {},
   "outputs": [
    {
     "data": {
      "text/plain": [
       "(143, 14)"
      ]
     },
     "execution_count": 57,
     "metadata": {},
     "output_type": "execute_result"
    }
   ],
   "source": [
    "udg_2019.shape"
   ]
  },
  {
   "cell_type": "code",
   "execution_count": 58,
   "id": "eb37aac2-e97f-4472-9727-22a2ecac04ff",
   "metadata": {},
   "outputs": [
    {
     "data": {
      "text/plain": [
       "(141, 14)"
      ]
     },
     "execution_count": 58,
     "metadata": {},
     "output_type": "execute_result"
    }
   ],
   "source": [
    "udg_2020.shape"
   ]
  },
  {
   "cell_type": "code",
   "execution_count": 59,
   "id": "ae6911c5-93c0-482d-b87e-485c65bf02d3",
   "metadata": {},
   "outputs": [
    {
     "data": {
      "text/plain": [
       "(138, 14)"
      ]
     },
     "execution_count": 59,
     "metadata": {},
     "output_type": "execute_result"
    }
   ],
   "source": [
    "udg_2021.shape"
   ]
  },
  {
   "cell_type": "code",
   "execution_count": 60,
   "id": "341188b8-7492-4c5c-86f1-62a16998032b",
   "metadata": {},
   "outputs": [
    {
     "data": {
      "text/plain": [
       "(141, 14)"
      ]
     },
     "execution_count": 60,
     "metadata": {},
     "output_type": "execute_result"
    }
   ],
   "source": [
    "udg_2022.shape"
   ]
  },
  {
   "cell_type": "code",
   "execution_count": 61,
   "id": "71b0741d-bf64-425d-bc87-aedad9c73074",
   "metadata": {},
   "outputs": [],
   "source": [
    "udg_data = pd.concat([udg_2019,udg_2020,udg_2021,udg_2022])"
   ]
  },
  {
   "cell_type": "code",
   "execution_count": 62,
   "id": "bded24e5-6e76-455d-99cc-309d12705fa2",
   "metadata": {},
   "outputs": [
    {
     "data": {
      "text/plain": [
       "(563, 14)"
      ]
     },
     "execution_count": 62,
     "metadata": {},
     "output_type": "execute_result"
    }
   ],
   "source": [
    "udg_data.shape"
   ]
  },
  {
   "cell_type": "code",
   "execution_count": 66,
   "id": "c19e85e4-d165-4771-87ca-e19c461eddb3",
   "metadata": {},
   "outputs": [],
   "source": [
    "udg_data['% Exclusively Distance'] = udg_data['Exclusively Distance'] / udg_data['Students Enrolled'] * 100\n",
    "udg_data['% Some Distance'] = udg_data['Some Distance'] / udg_data['Students Enrolled'] * 100\n",
    "udg_data['% No Distance'] = udg_data['No Distance'] / udg_data['Students Enrolled'] * 100\n",
    "udg_data['% Exclusively Distance, Same State'] = udg_data['Exclusively Distance, Same State'] / udg_data['Students Enrolled'] * 100\n",
    "udg_data['% Exclusively Distance, Not Same State'] = udg_data['Exclusively Distance, Not Same State'] / udg_data['Students Enrolled'] * 100\n",
    "udg_data['% Exclusively Distance, State Unknown'] = udg_data['Exclusively Distance, US, State Unknown'] / udg_data['Students Enrolled'] * 100\n",
    "udg_data['% Exclusively Distance, Outside U.S.'] = udg_data['Exclusively Distance, Outside U.S.'] / udg_data['Students Enrolled'] * 100\n",
    "udg_data['% Exclusively Distance, Unknown Location or Not Reported'] = udg_data['Exclusively Distance, Unknown Location or Not Reported'] / udg_data['Students Enrolled'] * 100"
   ]
  },
  {
   "cell_type": "code",
   "execution_count": 67,
   "id": "1a64cede-588c-45ed-8e58-715449312b4a",
   "metadata": {},
   "outputs": [
    {
     "data": {
      "text/html": [
       "<div>\n",
       "<style scoped>\n",
       "    .dataframe tbody tr th:only-of-type {\n",
       "        vertical-align: middle;\n",
       "    }\n",
       "\n",
       "    .dataframe tbody tr th {\n",
       "        vertical-align: top;\n",
       "    }\n",
       "\n",
       "    .dataframe thead th {\n",
       "        text-align: right;\n",
       "    }\n",
       "</style>\n",
       "<table border=\"1\" class=\"dataframe\">\n",
       "  <thead>\n",
       "    <tr style=\"text-align: right;\">\n",
       "      <th></th>\n",
       "      <th>ID</th>\n",
       "      <th>Institution Name</th>\n",
       "      <th>Year</th>\n",
       "      <th>Level</th>\n",
       "      <th>Students Enrolled</th>\n",
       "      <th>Exclusively Distance</th>\n",
       "      <th>Some Distance</th>\n",
       "      <th>No Distance</th>\n",
       "      <th>Exclusively Distance, Same State</th>\n",
       "      <th>Exclusively Distance, Not Same State</th>\n",
       "      <th>...</th>\n",
       "      <th>Exclusively Distance, Unknown Location or Not Reported</th>\n",
       "      <th>IDX</th>\n",
       "      <th>% Exclusively Distance</th>\n",
       "      <th>% Some Distance</th>\n",
       "      <th>% No Distance</th>\n",
       "      <th>% Exclusively Distance, Same State</th>\n",
       "      <th>% Exclusively Distance, Not Same State</th>\n",
       "      <th>% Exclusively Distance, State Unknown</th>\n",
       "      <th>% Exclusively Distance, Outside U.S.</th>\n",
       "      <th>% Exclusively Distance, Unknown Location or Not Reported</th>\n",
       "    </tr>\n",
       "  </thead>\n",
       "  <tbody>\n",
       "    <tr>\n",
       "      <th>1</th>\n",
       "      <td>219505</td>\n",
       "      <td>American Baptist College</td>\n",
       "      <td>2019</td>\n",
       "      <td>Undergraduate total</td>\n",
       "      <td>99</td>\n",
       "      <td>NaN</td>\n",
       "      <td>NaN</td>\n",
       "      <td>99.0</td>\n",
       "      <td>NaN</td>\n",
       "      <td>NaN</td>\n",
       "      <td>...</td>\n",
       "      <td>NaN</td>\n",
       "      <td>-2</td>\n",
       "      <td>NaN</td>\n",
       "      <td>NaN</td>\n",
       "      <td>100.000000</td>\n",
       "      <td>NaN</td>\n",
       "      <td>NaN</td>\n",
       "      <td>NaN</td>\n",
       "      <td>NaN</td>\n",
       "      <td>NaN</td>\n",
       "    </tr>\n",
       "    <tr>\n",
       "      <th>4</th>\n",
       "      <td>219587</td>\n",
       "      <td>Arnolds Beauty School</td>\n",
       "      <td>2019</td>\n",
       "      <td>Undergraduate total</td>\n",
       "      <td>66</td>\n",
       "      <td>NaN</td>\n",
       "      <td>NaN</td>\n",
       "      <td>66.0</td>\n",
       "      <td>NaN</td>\n",
       "      <td>NaN</td>\n",
       "      <td>...</td>\n",
       "      <td>NaN</td>\n",
       "      <td>-2</td>\n",
       "      <td>NaN</td>\n",
       "      <td>NaN</td>\n",
       "      <td>100.000000</td>\n",
       "      <td>NaN</td>\n",
       "      <td>NaN</td>\n",
       "      <td>NaN</td>\n",
       "      <td>NaN</td>\n",
       "      <td>NaN</td>\n",
       "    </tr>\n",
       "    <tr>\n",
       "      <th>7</th>\n",
       "      <td>219596</td>\n",
       "      <td>Tennessee College of Applied Technology-Athens</td>\n",
       "      <td>2019</td>\n",
       "      <td>Undergraduate total</td>\n",
       "      <td>238</td>\n",
       "      <td>0.0</td>\n",
       "      <td>0.0</td>\n",
       "      <td>238.0</td>\n",
       "      <td>NaN</td>\n",
       "      <td>NaN</td>\n",
       "      <td>...</td>\n",
       "      <td>NaN</td>\n",
       "      <td>-2</td>\n",
       "      <td>0.000000</td>\n",
       "      <td>0.000000</td>\n",
       "      <td>100.000000</td>\n",
       "      <td>NaN</td>\n",
       "      <td>NaN</td>\n",
       "      <td>NaN</td>\n",
       "      <td>NaN</td>\n",
       "      <td>NaN</td>\n",
       "    </tr>\n",
       "    <tr>\n",
       "      <th>11</th>\n",
       "      <td>219602</td>\n",
       "      <td>Austin Peay State University</td>\n",
       "      <td>2019</td>\n",
       "      <td>Undergraduate total</td>\n",
       "      <td>9971</td>\n",
       "      <td>1448.0</td>\n",
       "      <td>2632.0</td>\n",
       "      <td>5891.0</td>\n",
       "      <td>1065.0</td>\n",
       "      <td>374.0</td>\n",
       "      <td>...</td>\n",
       "      <td>3.0</td>\n",
       "      <td>-2</td>\n",
       "      <td>14.522114</td>\n",
       "      <td>26.396550</td>\n",
       "      <td>59.081336</td>\n",
       "      <td>10.680975</td>\n",
       "      <td>3.750878</td>\n",
       "      <td>0.0</td>\n",
       "      <td>0.060175</td>\n",
       "      <td>0.030087</td>\n",
       "    </tr>\n",
       "    <tr>\n",
       "      <th>16</th>\n",
       "      <td>219639</td>\n",
       "      <td>Baptist Health Sciences University</td>\n",
       "      <td>2019</td>\n",
       "      <td>Undergraduate total</td>\n",
       "      <td>971</td>\n",
       "      <td>30.0</td>\n",
       "      <td>354.0</td>\n",
       "      <td>587.0</td>\n",
       "      <td>17.0</td>\n",
       "      <td>13.0</td>\n",
       "      <td>...</td>\n",
       "      <td>0.0</td>\n",
       "      <td>-2</td>\n",
       "      <td>3.089598</td>\n",
       "      <td>36.457261</td>\n",
       "      <td>60.453141</td>\n",
       "      <td>1.750772</td>\n",
       "      <td>1.338826</td>\n",
       "      <td>0.0</td>\n",
       "      <td>0.000000</td>\n",
       "      <td>0.000000</td>\n",
       "    </tr>\n",
       "    <tr>\n",
       "      <th>...</th>\n",
       "      <td>...</td>\n",
       "      <td>...</td>\n",
       "      <td>...</td>\n",
       "      <td>...</td>\n",
       "      <td>...</td>\n",
       "      <td>...</td>\n",
       "      <td>...</td>\n",
       "      <td>...</td>\n",
       "      <td>...</td>\n",
       "      <td>...</td>\n",
       "      <td>...</td>\n",
       "      <td>...</td>\n",
       "      <td>...</td>\n",
       "      <td>...</td>\n",
       "      <td>...</td>\n",
       "      <td>...</td>\n",
       "      <td>...</td>\n",
       "      <td>...</td>\n",
       "      <td>...</td>\n",
       "      <td>...</td>\n",
       "      <td>...</td>\n",
       "    </tr>\n",
       "    <tr>\n",
       "      <th>540</th>\n",
       "      <td>497000</td>\n",
       "      <td>Remington College-Knoxville</td>\n",
       "      <td>2022</td>\n",
       "      <td>Undergraduate total</td>\n",
       "      <td>217</td>\n",
       "      <td>217.0</td>\n",
       "      <td>0.0</td>\n",
       "      <td>0.0</td>\n",
       "      <td>61.0</td>\n",
       "      <td>156.0</td>\n",
       "      <td>...</td>\n",
       "      <td>0.0</td>\n",
       "      <td>-2</td>\n",
       "      <td>100.000000</td>\n",
       "      <td>0.000000</td>\n",
       "      <td>0.000000</td>\n",
       "      <td>28.110599</td>\n",
       "      <td>71.889401</td>\n",
       "      <td>0.0</td>\n",
       "      <td>0.000000</td>\n",
       "      <td>0.000000</td>\n",
       "    </tr>\n",
       "    <tr>\n",
       "      <th>543</th>\n",
       "      <td>497125</td>\n",
       "      <td>Galen Health Institutes-Nashville Campus</td>\n",
       "      <td>2022</td>\n",
       "      <td>Undergraduate total</td>\n",
       "      <td>377</td>\n",
       "      <td>0.0</td>\n",
       "      <td>377.0</td>\n",
       "      <td>0.0</td>\n",
       "      <td>NaN</td>\n",
       "      <td>NaN</td>\n",
       "      <td>...</td>\n",
       "      <td>NaN</td>\n",
       "      <td>-2</td>\n",
       "      <td>0.000000</td>\n",
       "      <td>100.000000</td>\n",
       "      <td>0.000000</td>\n",
       "      <td>NaN</td>\n",
       "      <td>NaN</td>\n",
       "      <td>NaN</td>\n",
       "      <td>NaN</td>\n",
       "      <td>NaN</td>\n",
       "    </tr>\n",
       "    <tr>\n",
       "      <th>546</th>\n",
       "      <td>497198</td>\n",
       "      <td>Academy of Allied Health Careers</td>\n",
       "      <td>2022</td>\n",
       "      <td>Undergraduate total</td>\n",
       "      <td>114</td>\n",
       "      <td>NaN</td>\n",
       "      <td>NaN</td>\n",
       "      <td>114.0</td>\n",
       "      <td>NaN</td>\n",
       "      <td>NaN</td>\n",
       "      <td>...</td>\n",
       "      <td>NaN</td>\n",
       "      <td>-2</td>\n",
       "      <td>NaN</td>\n",
       "      <td>NaN</td>\n",
       "      <td>100.000000</td>\n",
       "      <td>NaN</td>\n",
       "      <td>NaN</td>\n",
       "      <td>NaN</td>\n",
       "      <td>NaN</td>\n",
       "      <td>NaN</td>\n",
       "    </tr>\n",
       "    <tr>\n",
       "      <th>549</th>\n",
       "      <td>497684</td>\n",
       "      <td>Sweetwater Institute of Cosmetology</td>\n",
       "      <td>2022</td>\n",
       "      <td>Undergraduate total</td>\n",
       "      <td>41</td>\n",
       "      <td>NaN</td>\n",
       "      <td>NaN</td>\n",
       "      <td>41.0</td>\n",
       "      <td>NaN</td>\n",
       "      <td>NaN</td>\n",
       "      <td>...</td>\n",
       "      <td>NaN</td>\n",
       "      <td>-2</td>\n",
       "      <td>NaN</td>\n",
       "      <td>NaN</td>\n",
       "      <td>100.000000</td>\n",
       "      <td>NaN</td>\n",
       "      <td>NaN</td>\n",
       "      <td>NaN</td>\n",
       "      <td>NaN</td>\n",
       "      <td>NaN</td>\n",
       "    </tr>\n",
       "    <tr>\n",
       "      <th>552</th>\n",
       "      <td>498368</td>\n",
       "      <td>Studio 75 Hair Academy</td>\n",
       "      <td>2022</td>\n",
       "      <td>Undergraduate total</td>\n",
       "      <td>4</td>\n",
       "      <td>NaN</td>\n",
       "      <td>NaN</td>\n",
       "      <td>4.0</td>\n",
       "      <td>NaN</td>\n",
       "      <td>NaN</td>\n",
       "      <td>...</td>\n",
       "      <td>NaN</td>\n",
       "      <td>-2</td>\n",
       "      <td>NaN</td>\n",
       "      <td>NaN</td>\n",
       "      <td>100.000000</td>\n",
       "      <td>NaN</td>\n",
       "      <td>NaN</td>\n",
       "      <td>NaN</td>\n",
       "      <td>NaN</td>\n",
       "      <td>NaN</td>\n",
       "    </tr>\n",
       "  </tbody>\n",
       "</table>\n",
       "<p>563 rows × 22 columns</p>\n",
       "</div>"
      ],
      "text/plain": [
       "         ID                                Institution Name  Year  \\\n",
       "1    219505                        American Baptist College  2019   \n",
       "4    219587                           Arnolds Beauty School  2019   \n",
       "7    219596  Tennessee College of Applied Technology-Athens  2019   \n",
       "11   219602                    Austin Peay State University  2019   \n",
       "16   219639              Baptist Health Sciences University  2019   \n",
       "..      ...                                             ...   ...   \n",
       "540  497000                     Remington College-Knoxville  2022   \n",
       "543  497125        Galen Health Institutes-Nashville Campus  2022   \n",
       "546  497198                Academy of Allied Health Careers  2022   \n",
       "549  497684             Sweetwater Institute of Cosmetology  2022   \n",
       "552  498368                          Studio 75 Hair Academy  2022   \n",
       "\n",
       "                   Level  Students Enrolled  Exclusively Distance  \\\n",
       "1    Undergraduate total                 99                   NaN   \n",
       "4    Undergraduate total                 66                   NaN   \n",
       "7    Undergraduate total                238                   0.0   \n",
       "11   Undergraduate total               9971                1448.0   \n",
       "16   Undergraduate total                971                  30.0   \n",
       "..                   ...                ...                   ...   \n",
       "540  Undergraduate total                217                 217.0   \n",
       "543  Undergraduate total                377                   0.0   \n",
       "546  Undergraduate total                114                   NaN   \n",
       "549  Undergraduate total                 41                   NaN   \n",
       "552  Undergraduate total                  4                   NaN   \n",
       "\n",
       "     Some Distance  No Distance  Exclusively Distance, Same State  \\\n",
       "1              NaN         99.0                               NaN   \n",
       "4              NaN         66.0                               NaN   \n",
       "7              0.0        238.0                               NaN   \n",
       "11          2632.0       5891.0                            1065.0   \n",
       "16           354.0        587.0                              17.0   \n",
       "..             ...          ...                               ...   \n",
       "540            0.0          0.0                              61.0   \n",
       "543          377.0          0.0                               NaN   \n",
       "546            NaN        114.0                               NaN   \n",
       "549            NaN         41.0                               NaN   \n",
       "552            NaN          4.0                               NaN   \n",
       "\n",
       "     Exclusively Distance, Not Same State  ...  \\\n",
       "1                                     NaN  ...   \n",
       "4                                     NaN  ...   \n",
       "7                                     NaN  ...   \n",
       "11                                  374.0  ...   \n",
       "16                                   13.0  ...   \n",
       "..                                    ...  ...   \n",
       "540                                 156.0  ...   \n",
       "543                                   NaN  ...   \n",
       "546                                   NaN  ...   \n",
       "549                                   NaN  ...   \n",
       "552                                   NaN  ...   \n",
       "\n",
       "     Exclusively Distance, Unknown Location or Not Reported  IDX  \\\n",
       "1                                                  NaN        -2   \n",
       "4                                                  NaN        -2   \n",
       "7                                                  NaN        -2   \n",
       "11                                                 3.0        -2   \n",
       "16                                                 0.0        -2   \n",
       "..                                                 ...       ...   \n",
       "540                                                0.0        -2   \n",
       "543                                                NaN        -2   \n",
       "546                                                NaN        -2   \n",
       "549                                                NaN        -2   \n",
       "552                                                NaN        -2   \n",
       "\n",
       "     % Exclusively Distance  % Some Distance  % No Distance  \\\n",
       "1                       NaN              NaN     100.000000   \n",
       "4                       NaN              NaN     100.000000   \n",
       "7                  0.000000         0.000000     100.000000   \n",
       "11                14.522114        26.396550      59.081336   \n",
       "16                 3.089598        36.457261      60.453141   \n",
       "..                      ...              ...            ...   \n",
       "540              100.000000         0.000000       0.000000   \n",
       "543                0.000000       100.000000       0.000000   \n",
       "546                     NaN              NaN     100.000000   \n",
       "549                     NaN              NaN     100.000000   \n",
       "552                     NaN              NaN     100.000000   \n",
       "\n",
       "     % Exclusively Distance, Same State  \\\n",
       "1                                   NaN   \n",
       "4                                   NaN   \n",
       "7                                   NaN   \n",
       "11                            10.680975   \n",
       "16                             1.750772   \n",
       "..                                  ...   \n",
       "540                           28.110599   \n",
       "543                                 NaN   \n",
       "546                                 NaN   \n",
       "549                                 NaN   \n",
       "552                                 NaN   \n",
       "\n",
       "     % Exclusively Distance, Not Same State  \\\n",
       "1                                       NaN   \n",
       "4                                       NaN   \n",
       "7                                       NaN   \n",
       "11                                 3.750878   \n",
       "16                                 1.338826   \n",
       "..                                      ...   \n",
       "540                               71.889401   \n",
       "543                                     NaN   \n",
       "546                                     NaN   \n",
       "549                                     NaN   \n",
       "552                                     NaN   \n",
       "\n",
       "     % Exclusively Distance, State Unknown  \\\n",
       "1                                      NaN   \n",
       "4                                      NaN   \n",
       "7                                      NaN   \n",
       "11                                     0.0   \n",
       "16                                     0.0   \n",
       "..                                     ...   \n",
       "540                                    0.0   \n",
       "543                                    NaN   \n",
       "546                                    NaN   \n",
       "549                                    NaN   \n",
       "552                                    NaN   \n",
       "\n",
       "     % Exclusively Distance, Outside U.S.  \\\n",
       "1                                     NaN   \n",
       "4                                     NaN   \n",
       "7                                     NaN   \n",
       "11                               0.060175   \n",
       "16                               0.000000   \n",
       "..                                    ...   \n",
       "540                              0.000000   \n",
       "543                                   NaN   \n",
       "546                                   NaN   \n",
       "549                                   NaN   \n",
       "552                                   NaN   \n",
       "\n",
       "     % Exclusively Distance, Unknown Location or Not Reported  \n",
       "1                                                  NaN         \n",
       "4                                                  NaN         \n",
       "7                                                  NaN         \n",
       "11                                            0.030087         \n",
       "16                                            0.000000         \n",
       "..                                                 ...         \n",
       "540                                           0.000000         \n",
       "543                                                NaN         \n",
       "546                                                NaN         \n",
       "549                                                NaN         \n",
       "552                                                NaN         \n",
       "\n",
       "[563 rows x 22 columns]"
      ]
     },
     "execution_count": 67,
     "metadata": {},
     "output_type": "execute_result"
    }
   ],
   "source": [
    "udg_data"
   ]
  },
  {
   "cell_type": "code",
   "execution_count": 68,
   "id": "f6d3fc2c-61c5-4518-a4ab-38ee1da8e121",
   "metadata": {
    "scrolled": true
   },
   "outputs": [],
   "source": [
    "udg_data.to_excel(\"C:/Users/marya/Documents/DA11/Python/projects/TNEducationCapstone/data/Capstone Distance Data_2019-2022.xlsx\")"
   ]
  },
  {
   "cell_type": "code",
   "execution_count": 3,
   "id": "ebf051c8-50c0-407c-a784-884be28303fa",
   "metadata": {},
   "outputs": [],
   "source": [
    "locale_data = pd.read_excel(\"C:/Users/marya/Documents/DA11/Python/projects/TNEducationCapstone/data/Capstone All Data_2022.xlsx\")"
   ]
  },
  {
   "cell_type": "code",
   "execution_count": 7,
   "id": "ec0e3007-2798-4219-9ea8-ebce5e9ff8cc",
   "metadata": {},
   "outputs": [],
   "source": [
    "four_year = locale_data[locale_data[\"Institution Sector\"].isin([\"Private not-for-profit, 4-year or above\",\"Private for-profit, 4-year or above\",\"Public, 4-year or above\"])]"
   ]
  },
  {
   "cell_type": "code",
   "execution_count": 16,
   "id": "57ccbeda-2a85-49ac-b5e8-abc027f2b94a",
   "metadata": {},
   "outputs": [],
   "source": [
    "four_year.groupby(['Degree of Urbanization','Year'])[\"FT Undergraduate Enrollment\"].sum().to_excel(\"C:/Users/marya/Documents/DA11/Python/projects/TNEducationCapstone/data/Four Year_Locale 2019-2022.xlsx\")"
   ]
  },
  {
   "cell_type": "code",
   "execution_count": 22,
   "id": "a691c5ed-495e-4746-a55e-9beb784df2d7",
   "metadata": {},
   "outputs": [
    {
     "name": "stderr",
     "output_type": "stream",
     "text": [
      "C:\\Users\\marya\\AppData\\Local\\Temp\\ipykernel_23988\\202839782.py:1: SettingWithCopyWarning: \n",
      "A value is trying to be set on a copy of a slice from a DataFrame.\n",
      "Try using .loc[row_indexer,col_indexer] = value instead\n",
      "\n",
      "See the caveats in the documentation: https://pandas.pydata.org/pandas-docs/stable/user_guide/indexing.html#returning-a-view-versus-a-copy\n",
      "  four_year[\"Locale\"] = four_year[\"Degree of Urbanization\"].str.split(':').str[0]\n"
     ]
    }
   ],
   "source": [
    "four_year[\"Locale\"] = four_year[\"Degree of Urbanization\"].str.split(':').str[0]"
   ]
  },
  {
   "cell_type": "code",
   "execution_count": 23,
   "id": "abff0192-dbc2-4544-bf38-51c833f9cc26",
   "metadata": {},
   "outputs": [],
   "source": [
    "four_year.groupby(['Locale','Year'])[\"FT Undergraduate Enrollment\"].sum().to_excel(\"C:/Users/marya/Documents/DA11/Python/projects/TNEducationCapstone/data/Four Year_Locale 2019-2022_v1.xlsx\")"
   ]
  },
  {
   "cell_type": "code",
   "execution_count": 24,
   "id": "6652c47f-76b3-49f6-bad2-1e63e44db75f",
   "metadata": {},
   "outputs": [],
   "source": [
    "four_year.groupby(['Degree of Urbanization','Year'])[\"Graduation Rate (6 Years) - Total\"].mean().to_excel(\"C:/Users/marya/Documents/DA11/Python/projects/TNEducationCapstone/data/Four Year_Grad Rate 2019-2022.xlsx\")"
   ]
  },
  {
   "cell_type": "code",
   "execution_count": 25,
   "id": "c649a312-3d16-4ea3-840c-68ee5323254a",
   "metadata": {},
   "outputs": [],
   "source": [
    "four_year.groupby(['Locale','Year'])[\"Graduation Rate (6 Years) - Total\"].mean().to_excel(\"C:/Users/marya/Documents/DA11/Python/projects/TNEducationCapstone/data/Four Year_Grad Rate 2019-2022_v1.xlsx\")"
   ]
  },
  {
   "cell_type": "markdown",
   "id": "2ac82b51-ad78-43da-9fa1-6434bb5f752d",
   "metadata": {},
   "source": [
    "### Rate of Changes"
   ]
  },
  {
   "cell_type": "code",
   "execution_count": 26,
   "id": "c5ab5883-3656-4a7c-a559-f868265bed34",
   "metadata": {},
   "outputs": [],
   "source": [
    "clean_data = pd.read_excel(\"C:/Users/marya/Documents/DA11/Python/projects/TNEducationCapstone/data/Capstone All Data_2022.xlsx\")"
   ]
  },
  {
   "cell_type": "code",
   "execution_count": 28,
   "id": "d655e750-6fa1-49bc-b7bb-9bcbb8e47a34",
   "metadata": {},
   "outputs": [
    {
     "data": {
      "text/plain": [
       "Year\n",
       "2019    206713.0\n",
       "2020    199292.0\n",
       "2021    195512.0\n",
       "2022    197036.0\n",
       "Name: FT Undergraduate Enrollment, dtype: float64"
      ]
     },
     "execution_count": 28,
     "metadata": {},
     "output_type": "execute_result"
    }
   ],
   "source": [
    "clean_data.groupby('Year')clean_data[[]==][\"FT Undergraduate Enrollment\"].sum()"
   ]
  }
 ],
 "metadata": {
  "kernelspec": {
   "display_name": "Python 3 (ipykernel)",
   "language": "python",
   "name": "python3"
  },
  "language_info": {
   "codemirror_mode": {
    "name": "ipython",
    "version": 3
   },
   "file_extension": ".py",
   "mimetype": "text/x-python",
   "name": "python",
   "nbconvert_exporter": "python",
   "pygments_lexer": "ipython3",
   "version": "3.11.7"
  }
 },
 "nbformat": 4,
 "nbformat_minor": 5
}
