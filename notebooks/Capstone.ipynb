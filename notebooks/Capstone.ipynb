{
 "cells": [
  {
   "cell_type": "code",
   "execution_count": 110,
   "id": "2cae219a-a8e9-418d-8a71-297c28966c0f",
   "metadata": {},
   "outputs": [],
   "source": [
    "import pandas as pd\n",
    "import matplotlib.pyplot as plt\n",
    "import seaborn as sns\n",
    "import numpy as np"
   ]
  },
  {
   "cell_type": "markdown",
   "id": "ce6f4a22-a350-4452-887d-8e224fb78f59",
   "metadata": {},
   "source": [
    "# Loading dfs"
   ]
  },
  {
   "cell_type": "code",
   "execution_count": 111,
   "id": "5cbfde1a-b675-479b-b0a4-92a0ac4deb6c",
   "metadata": {},
   "outputs": [],
   "source": [
    "data_2019 = pd.read_csv(\"C:/Users/marya/Documents/DA11/Python/projects/Capstone Data/data/Capstone Data_2019.csv\")"
   ]
  },
  {
   "cell_type": "code",
   "execution_count": 112,
   "id": "af1f6f5b-d539-44a0-91ac-1f6bddce2a3e",
   "metadata": {},
   "outputs": [],
   "source": [
    "data_2020 = pd.read_csv(\"C:/Users/marya/Documents/DA11/Python/projects/Capstone Data/data/Capstone Data_2020.csv\")"
   ]
  },
  {
   "cell_type": "code",
   "execution_count": 113,
   "id": "a4018d5d-25c6-41d0-b984-a422b8610e1d",
   "metadata": {},
   "outputs": [],
   "source": [
    "data_2021 = pd.read_csv(\"C:/Users/marya/Documents/DA11/Python/projects/Capstone Data/data/Capstone Data_2021.csv\")"
   ]
  },
  {
   "cell_type": "code",
   "execution_count": 114,
   "id": "e881bf50-3d1e-4326-a74e-22e2867cf967",
   "metadata": {},
   "outputs": [],
   "source": [
    "data_2022 = pd.read_csv(\"C:/Users/marya/Documents/DA11/Python/projects/Capstone Data/data/Capstone Data_2022.csv\")"
   ]
  },
  {
   "cell_type": "markdown",
   "id": "9e71ca85-3afa-49aa-af98-b804b25d78b4",
   "metadata": {},
   "source": [
    "# Exploring Data"
   ]
  },
  {
   "cell_type": "markdown",
   "id": "00d0802c-fe3a-4313-b6d2-0046ac5a6fd6",
   "metadata": {},
   "source": [
    "## Exploring columns of each df"
   ]
  },
  {
   "cell_type": "code",
   "execution_count": 87,
   "id": "35d5e0f2-df6b-49e7-86de-9822e5c4bd82",
   "metadata": {
    "scrolled": true
   },
   "outputs": [
    {
     "data": {
      "text/plain": [
       "Index(['unitid', 'institution name', 'year', 'HD2019.State abbreviation',\n",
       "       'HD2019.Sector of institution',\n",
       "       'HD2019.Historically Black College or University',\n",
       "       'DRVEF2019_RV.Full-time undergraduate enrollment',\n",
       "       'DRVEF2019_RV.Percent of undergraduate enrollment that are American Indian or Alaska Native',\n",
       "       'DRVEF2019_RV.Percent of undergraduate enrollment that are Asian',\n",
       "       'DRVEF2019_RV.Percent of undergraduate enrollment that are Black or African American',\n",
       "       'DRVEF2019_RV.Percent of undergraduate enrollment that are Hispanic/Latino',\n",
       "       'DRVEF2019_RV.Percent of undergraduate enrollment that are Native Hawaiian or Other Pacific Islander',\n",
       "       'DRVEF2019_RV.Percent of undergraduate enrollment that are White',\n",
       "       'DRVEF2019_RV.Percent of undergraduate enrollment that are two or more races',\n",
       "       'DRVEF2019_RV.Percent of undergraduate enrollment that are Race/ethnicity unknown',\n",
       "       'DRVEF2019_RV.Percent of undergraduate enrollment that are Nonresident Alien',\n",
       "       'DRVEF2019_RV.Percent of undergraduate enrollment that are Asian/Native Hawaiian/Pacific Islander',\n",
       "       'DRVEF2019_RV.Percent of undergraduate enrollment that are women',\n",
       "       'EF2019D_RV.Full-time retention rate, 2019',\n",
       "       'DRVGR2019_RV.Graduation rate - Bachelor degree within 6 years, total',\n",
       "       'DRVGR2019_RV.Graduation rate - Bachelor degree within 6 years, men',\n",
       "       'DRVGR2019_RV.Graduation rate - Bachelor degree within 6 years, women',\n",
       "       'DRVGR2019_RV.Graduation rate - Bachelor degree within 6 years, American Indian or Alaska Native',\n",
       "       'DRVGR2019_RV.Graduation rate - Bachelor degree within 6 years, Asian/Native Hawaiian/Pacific Islander',\n",
       "       'DRVGR2019_RV.Graduation rate - Bachelor degree within 6 years, Asian',\n",
       "       'DRVGR2019_RV.Graduation rate - Bachelor degree within 6 years, Native Hawaiian or Other Pacific Islander',\n",
       "       'DRVGR2019_RV.Graduation rate - Bachelor degree within 6 years, Black, non-Hispanic',\n",
       "       'DRVGR2019_RV.Graduation rate - Bachelor degree within 6 years, Hispanic',\n",
       "       'DRVGR2019_RV.Graduation rate - Bachelor degree within 6 years, White, non-Hispanic',\n",
       "       'DRVGR2019_RV.Graduation rate - Bachelor degree within 6 years, two or more races',\n",
       "       'DRVGR2019_RV.Graduation rate - Bachelor degree within 6 years, Race/ethnicity unknown',\n",
       "       'DRVGR2019_RV.Graduation rate - Bachelor degree within 6 years, Nonresident alien',\n",
       "       'DRVGR2019_RV.Pell Grant recipients - Bachelor's degree rate within 6 years'],\n",
       "      dtype='object')"
      ]
     },
     "execution_count": 87,
     "metadata": {},
     "output_type": "execute_result"
    }
   ],
   "source": [
    "data_2019.columns"
   ]
  },
  {
   "cell_type": "code",
   "execution_count": 23,
   "id": "4a2dac52-9a44-4f8d-a146-2c159fe0947e",
   "metadata": {
    "scrolled": true
   },
   "outputs": [
    {
     "data": {
      "text/plain": [
       "(149, 33)"
      ]
     },
     "execution_count": 23,
     "metadata": {},
     "output_type": "execute_result"
    }
   ],
   "source": [
    "data_2019.shape"
   ]
  },
  {
   "cell_type": "code",
   "execution_count": 115,
   "id": "e2ce7571-a810-4a63-9c41-772ca1b54d3e",
   "metadata": {},
   "outputs": [],
   "source": [
    "data_2019 = data_2019.rename(columns={'unitid': 'ID', 'institution name': 'Institution Name', 'year':'Year', 'HD2019.State abbreviation':'State Abbreviation',\n",
    "       'HD2019.Sector of institution': 'Institution Sector',\n",
    "       'HD2019.Historically Black College or University': 'HBCU',\n",
    "       'DRVEF2019_RV.Full-time undergraduate enrollment': 'FT Undergraduate Enrollment',\n",
    "       'DRVEF2019_RV.Percent of undergraduate enrollment that are American Indian or Alaska Native': 'Percent of Enrollment - American Indian or Alaska Native',\n",
    "       'DRVEF2019_RV.Percent of undergraduate enrollment that are Asian': 'Percent of Enrollment - Asian',\n",
    "       'DRVEF2019_RV.Percent of undergraduate enrollment that are Black or African American': 'Percent of Enrollment - Black or African American',\n",
    "       'DRVEF2019_RV.Percent of undergraduate enrollment that are Hispanic/Latino': 'Percent of Enrollment - Hispanic/Latino',\n",
    "       'DRVEF2019_RV.Percent of undergraduate enrollment that are Native Hawaiian or Other Pacific Islander' : 'Percent of Enrollment - Native Hawaiian or Other Pacific Islander',\n",
    "       'DRVEF2019_RV.Percent of undergraduate enrollment that are White': 'Percent of Enrollment - White',\n",
    "       'DRVEF2019_RV.Percent of undergraduate enrollment that are two or more races': 'Percent of Enrollment - Two or More Races',\n",
    "       'DRVEF2019_RV.Percent of undergraduate enrollment that are Race/ethnicity unknown': 'Percent of Enrollment - Race/ethnicity unknown',\n",
    "       'DRVEF2019_RV.Percent of undergraduate enrollment that are Nonresident Alien': 'Percent of Enrollment - Nonresident Alien',\n",
    "       'DRVEF2019_RV.Percent of undergraduate enrollment that are Asian/Native Hawaiian/Pacific Islander' : 'Percent of Enrollment - Asian/Native Hawaiian/Pacific Islander',\n",
    "       'DRVEF2019_RV.Percent of undergraduate enrollment that are women' : 'Percent of Enrollment - Women',\n",
    "       'EF2019D_RV.Full-time retention rate, 2019' : 'FT Retention Rate',\n",
    "       'DRVGR2019_RV.Graduation rate - Bachelor degree within 6 years, total': 'Graduation Rate (6 Years) - Total',\n",
    "       'DRVGR2019_RV.Graduation rate - Bachelor degree within 6 years, men': 'Graduation Rate (6 Years) - Men',\n",
    "       'DRVGR2019_RV.Graduation rate - Bachelor degree within 6 years, women': 'Graduation Rate (6 Years) - Women',\n",
    "       'DRVGR2019_RV.Graduation rate - Bachelor degree within 6 years, American Indian or Alaska Native': 'Graduation Rate (6 Years) - American Indian or Alaska Native',\n",
    "       'DRVGR2019_RV.Graduation rate - Bachelor degree within 6 years, Asian/Native Hawaiian/Pacific Islander': 'Graduation Rate (6 Years) - Asian/Native Hawaiian/Pacific Islander',\n",
    "       'DRVGR2019_RV.Graduation rate - Bachelor degree within 6 years, Asian': 'Graduation Rate (6 Years) - Asian',\n",
    "       'DRVGR2019_RV.Graduation rate - Bachelor degree within 6 years, Native Hawaiian or Other Pacific Islander': 'Graduation Rate (6 Years) - Native Hawaiian or Other Pacific Islander',\n",
    "       'DRVGR2019_RV.Graduation rate - Bachelor degree within 6 years, Black, non-Hispanic': 'Graduation Rate (6 Years) - Black, non-Hispanic',\n",
    "       'DRVGR2019_RV.Graduation rate - Bachelor degree within 6 years, Hispanic': 'Graduation Rate (6 Years) - Hispanic',\n",
    "       'DRVGR2019_RV.Graduation rate - Bachelor degree within 6 years, White, non-Hispanic': 'Graduation Rate (6 Years) - White, non-Hispanic',\n",
    "       'DRVGR2019_RV.Graduation rate - Bachelor degree within 6 years, two or more races': 'Graduation Rate (6 Years) - Two or more races',\n",
    "       'DRVGR2019_RV.Graduation rate - Bachelor degree within 6 years, Race/ethnicity unknown': 'Graduation Rate (6 Years) - Race/ethnicity unknown',\n",
    "       'DRVGR2019_RV.Graduation rate - Bachelor degree within 6 years, Nonresident alien': 'Graduation Rate (6 Years) - Nonresident alien',\n",
    "       \"DRVGR2019_RV.Pell Grant recipients - Bachelor's degree rate within 6 years\": \"Graduation Rate (6 Years) - Pell Grant\"})"
   ]
  },
  {
   "cell_type": "code",
   "execution_count": 89,
   "id": "bb064104-a8ae-44be-9f38-61a001eb14b8",
   "metadata": {},
   "outputs": [
    {
     "data": {
      "text/plain": [
       "Index(['ID', 'Institution Name', 'Year', 'State Abbreviation',\n",
       "       'Institution Sector', 'HBCU', 'FT Undergraduate Enrollment',\n",
       "       'Percent of Enrollment - American Indian or Alaska Native',\n",
       "       'Percent of Enrollment - Asian',\n",
       "       'Percent of Enrollment - Black or African American',\n",
       "       'Percent of Enrollment - Hispanic/Latino',\n",
       "       'Percent of Enrollment - Native Hawaiian or Other Pacific Islander',\n",
       "       'Percent of Enrollment - White',\n",
       "       'Percent of Enrollment - Two or More Races',\n",
       "       'Percent of Enrollment - Race/ethnicity unknown',\n",
       "       'Percent of Enrollment - Nonresident Alien',\n",
       "       'Percent of Enrollment - Asian/Native Hawaiian/Pacific Islander',\n",
       "       'Percent of Enrollment - Women', 'FT Retention Rate',\n",
       "       'Graduation Rate (6 Years) - Total', 'Graduation Rate (6 Years) - Men',\n",
       "       'Graduation Rate (6 Years) - Women',\n",
       "       'Graduation Rate (6 Years) - American Indian or Alaska Native',\n",
       "       'Graduation Rate (6 Years) - Asian/Native Hawaiian/Pacific Islander',\n",
       "       'Graduation Rate (6 Years) - Asian',\n",
       "       'Graduation Rate (6 Years) - Native Hawaiian or Other Pacific Islander',\n",
       "       'Graduation Rate (6 Years) - Black, non-Hispanic',\n",
       "       'Graduation Rate (6 Years) - Hispanic',\n",
       "       'Graduation Rate (6 Years) - White, non-Hispanic',\n",
       "       'Graduation Rate (6 Years) - Two or more races',\n",
       "       'Graduation Rate (6 Years) - Race/ethnicity unknown',\n",
       "       'Graduation Rate (6 Years) - Nonresident alien',\n",
       "       'Graduation Rate (6 Years) - Pell Grant'],\n",
       "      dtype='object')"
      ]
     },
     "execution_count": 89,
     "metadata": {},
     "output_type": "execute_result"
    }
   ],
   "source": [
    "data_2019.columns"
   ]
  },
  {
   "cell_type": "code",
   "execution_count": 116,
   "id": "4b0100df-3173-4be9-90e4-c8d6e930bda5",
   "metadata": {},
   "outputs": [],
   "source": [
    "data_2020 = data_2020.rename(columns={'unitid': 'ID', 'institution name': 'Institution Name', 'year':'Year', 'HD2020.State abbreviation':'State Abbreviation',\n",
    "       'HD2020.Sector of institution': 'Institution Sector',\n",
    "       'HD2020.Historically Black College or University': 'HBCU',\n",
    "       'DRVEF2020_RV.Full-time undergraduate enrollment': 'FT Undergraduate Enrollment',\n",
    "       'DRVEF2020_RV.Percent of undergraduate enrollment that are American Indian or Alaska Native': 'Percent of Enrollment - American Indian or Alaska Native',\n",
    "       'DRVEF2020_RV.Percent of undergraduate enrollment that are Asian': 'Percent of Enrollment - Asian',\n",
    "       'DRVEF2020_RV.Percent of undergraduate enrollment that are Black or African American': 'Percent of Enrollment - Black or African American',\n",
    "       'DRVEF2020_RV.Percent of undergraduate enrollment that are Hispanic/Latino': 'Percent of Enrollment - Hispanic/Latino',\n",
    "       'DRVEF2020_RV.Percent of undergraduate enrollment that are Native Hawaiian or Other Pacific Islander' : 'Percent of Enrollment - Native Hawaiian or Other Pacific Islander',\n",
    "       'DRVEF2020_RV.Percent of undergraduate enrollment that are White': 'Percent of Enrollment - White',\n",
    "       'DRVEF2020_RV.Percent of undergraduate enrollment that are two or more races': 'Percent of Enrollment - Two or More Races',\n",
    "       'DRVEF2020_RV.Percent of undergraduate enrollment that are Race/ethnicity unknown': 'Percent of Enrollment - Race/ethnicity unknown',\n",
    "       'DRVEF2020_RV.Percent of undergraduate enrollment that are Nonresident Alien': 'Percent of Enrollment - Nonresident Alien',\n",
    "       'DRVEF2020_RV.Percent of undergraduate enrollment that are Asian/Native Hawaiian/Pacific Islander' : 'Percent of Enrollment - Asian/Native Hawaiian/Pacific Islander',\n",
    "       'DRVEF2020_RV.Percent of undergraduate enrollment that are women' : 'Percent of Enrollment - Women',\n",
    "       'EF2020D_RV.Full-time retention rate, 2020' : 'FT Retention Rate',\n",
    "       'DRVGR2020_RV.Graduation rate - Bachelor degree within 6 years, total': 'Graduation Rate (6 Years) - Total',\n",
    "       'DRVGR2020_RV.Graduation rate - Bachelor degree within 6 years, men': 'Graduation Rate (6 Years) - Men',\n",
    "       'DRVGR2020_RV.Graduation rate - Bachelor degree within 6 years, women': 'Graduation Rate (6 Years) - Women',\n",
    "       'DRVGR2020_RV.Graduation rate - Bachelor degree within 6 years, American Indian or Alaska Native': 'Graduation Rate (6 Years) - American Indian or Alaska Native',\n",
    "       'DRVGR2020_RV.Graduation rate - Bachelor degree within 6 years, Asian/Native Hawaiian/Pacific Islander': 'Graduation Rate (6 Years) - Asian/Native Hawaiian/Pacific Islander',\n",
    "       'DRVGR2020_RV.Graduation rate - Bachelor degree within 6 years, Asian': 'Graduation Rate (6 Years) - Asian',\n",
    "       'DRVGR2020_RV.Graduation rate - Bachelor degree within 6 years, Native Hawaiian or Other Pacific Islander': 'Graduation Rate (6 Years) - Native Hawaiian or Other Pacific Islander',\n",
    "       'DRVGR2020_RV.Graduation rate - Bachelor degree within 6 years, Black, non-Hispanic': 'Graduation Rate (6 Years) - Black, non-Hispanic',\n",
    "       'DRVGR2020_RV.Graduation rate - Bachelor degree within 6 years, Hispanic': 'Graduation Rate (6 Years) - Hispanic',\n",
    "       'DRVGR2020_RV.Graduation rate - Bachelor degree within 6 years, White, non-Hispanic': 'Graduation Rate (6 Years) - White, non-Hispanic',\n",
    "       'DRVGR2020_RV.Graduation rate - Bachelor degree within 6 years, two or more races': 'Graduation Rate (6 Years) - Two or more races',\n",
    "       'DRVGR2020_RV.Graduation rate - Bachelor degree within 6 years, Race/ethnicity unknown': 'Graduation Rate (6 Years) - Race/ethnicity unknown',\n",
    "       'DRVGR2020_RV.Graduation rate - Bachelor degree within 6 years, Nonresident alien': 'Graduation Rate (6 Years) - Nonresident alien',\n",
    "       \"DRVGR2020_RV.Pell Grant recipients - Bachelor's degree rate within 6 years\": \"Graduation Rate (6 Years) - Pell Grant\"})"
   ]
  },
  {
   "cell_type": "code",
   "execution_count": 65,
   "id": "616a4024-c554-458f-8775-1c6efde9704f",
   "metadata": {
    "scrolled": true
   },
   "outputs": [
    {
     "data": {
      "text/plain": [
       "Index(['ID', 'Institution Name', 'Year', 'State Abbreviation',\n",
       "       'Institution Sector', 'HBCU', 'FT Undergraduate Enrollment',\n",
       "       'Percent of Enrollment - American Indian or Alaska Native',\n",
       "       'Percent of Enrollment - Asian',\n",
       "       'Percent of Enrollment - Black or African American',\n",
       "       'Percent of Enrollment - Hispanic/Latino',\n",
       "       'Percent of Enrollment - Native Hawaiian or Other Pacific Islander',\n",
       "       'Percent of Enrollment - White',\n",
       "       'Percent of Enrollment - Two or More Races',\n",
       "       'Percent of Enrollment - Race/ethnicity unknown',\n",
       "       'Percent of Enrollment - Nonresident Alien',\n",
       "       'Percent of Enrollment - Asian/Native Hawaiian/Pacific Islander',\n",
       "       'Percent of Enrollment - Women', 'FT Retention Rate',\n",
       "       'Graduation Rate (6 Years) - Total', 'Graduation Rate (6 Years) - Men',\n",
       "       'Graduation Rate (6 Years) - Women',\n",
       "       'Graduation Rate (6 Years) - American Indian or Alaska Native',\n",
       "       'Graduation Rate (6 Years) - Asian/Native Hawaiian/Pacific Islander',\n",
       "       'Graduation Rate (6 Years) - Asian',\n",
       "       'Graduation Rate (6 Years) - Native Hawaiian or Other Pacific Islander',\n",
       "       'Graduation Rate (6 Years) - Black, non-Hispanic',\n",
       "       'Graduation Rate (6 Years) - Hispanic',\n",
       "       'Graduation Rate (6 Years) - White, non-Hispanic',\n",
       "       'Graduation Rate (6 Years) - Two or more races',\n",
       "       'Graduation Rate (6 Years) - Race/ethnicity unknown',\n",
       "       'Graduation Rate (6 Years) - Nonresident alien',\n",
       "       'Graduation Rate (6 Years) - Pell Grant'],\n",
       "      dtype='object')"
      ]
     },
     "execution_count": 65,
     "metadata": {},
     "output_type": "execute_result"
    }
   ],
   "source": [
    "data_2020.columns"
   ]
  },
  {
   "cell_type": "code",
   "execution_count": 24,
   "id": "bfa2fd62-618d-449e-8695-50cf5658cdcb",
   "metadata": {},
   "outputs": [
    {
     "data": {
      "text/plain": [
       "(149, 33)"
      ]
     },
     "execution_count": 24,
     "metadata": {},
     "output_type": "execute_result"
    }
   ],
   "source": [
    "data_2020.shape"
   ]
  },
  {
   "cell_type": "code",
   "execution_count": 117,
   "id": "4be318c1-7e9b-479b-b7a6-85cbcad41216",
   "metadata": {},
   "outputs": [],
   "source": [
    "data_2021 = data_2021.rename(columns={'unitid': 'ID', 'institution name': 'Institution Name', 'year':'Year', 'HD2021.State abbreviation':'State Abbreviation',\n",
    "       'HD2021.Sector of institution': 'Institution Sector',\n",
    "       'HD2021.Historically Black College or University': 'HBCU',\n",
    "       'DRVEF2021_RV.Full-time undergraduate enrollment': 'FT Undergraduate Enrollment',\n",
    "       'DRVEF2021_RV.Percent of undergraduate enrollment that are American Indian or Alaska Native': 'Percent of Enrollment - American Indian or Alaska Native',\n",
    "       'DRVEF2021_RV.Percent of undergraduate enrollment that are Asian': 'Percent of Enrollment - Asian',\n",
    "       'DRVEF2021_RV.Percent of undergraduate enrollment that are Black or African American': 'Percent of Enrollment - Black or African American',\n",
    "       'DRVEF2021_RV.Percent of undergraduate enrollment that are Hispanic/Latino': 'Percent of Enrollment - Hispanic/Latino',\n",
    "       'DRVEF2021_RV.Percent of undergraduate enrollment that are Native Hawaiian or Other Pacific Islander' : 'Percent of Enrollment - Native Hawaiian or Other Pacific Islander',\n",
    "       'DRVEF2021_RV.Percent of undergraduate enrollment that are White': 'Percent of Enrollment - White',\n",
    "       'DRVEF2021_RV.Percent of undergraduate enrollment that are two or more races': 'Percent of Enrollment - Two or More Races',\n",
    "       'DRVEF2021_RV.Percent of undergraduate enrollment that are Race/ethnicity unknown': 'Percent of Enrollment - Race/ethnicity unknown',\n",
    "       'DRVEF2021_RV.Percent of undergraduate enrollment that are Nonresident Alien': 'Percent of Enrollment - Nonresident Alien',\n",
    "       'DRVEF2021_RV.Percent of undergraduate enrollment that are Asian/Native Hawaiian/Pacific Islander' : 'Percent of Enrollment - Asian/Native Hawaiian/Pacific Islander',\n",
    "       'DRVEF2021_RV.Percent of undergraduate enrollment that are women' : 'Percent of Enrollment - Women',\n",
    "       'EF2021D_RV.Full-time retention rate, 2021' : 'FT Retention Rate',\n",
    "       'DRVGR2021_RV.Graduation rate - Bachelor degree within 6 years, total': 'Graduation Rate (6 Years) - Total',\n",
    "       'DRVGR2021_RV.Graduation rate - Bachelor degree within 6 years, men': 'Graduation Rate (6 Years) - Men',\n",
    "       'DRVGR2021_RV.Graduation rate - Bachelor degree within 6 years, women': 'Graduation Rate (6 Years) - Women',\n",
    "       'DRVGR2021_RV.Graduation rate - Bachelor degree within 6 years, American Indian or Alaska Native': 'Graduation Rate (6 Years) - American Indian or Alaska Native',\n",
    "       'DRVGR2021_RV.Graduation rate - Bachelor degree within 6 years, Asian/Native Hawaiian/Pacific Islander': 'Graduation Rate (6 Years) - Asian/Native Hawaiian/Pacific Islander',\n",
    "       'DRVGR2021_RV.Graduation rate - Bachelor degree within 6 years, Asian': 'Graduation Rate (6 Years) - Asian',\n",
    "       'DRVGR2021_RV.Graduation rate - Bachelor degree within 6 years, Native Hawaiian or Other Pacific Islander': 'Graduation Rate (6 Years) - Native Hawaiian or Other Pacific Islander',\n",
    "       'DRVGR2021_RV.Graduation rate - Bachelor degree within 6 years, Black, non-Hispanic': 'Graduation Rate (6 Years) - Black, non-Hispanic',\n",
    "       'DRVGR2021_RV.Graduation rate - Bachelor degree within 6 years, Hispanic': 'Graduation Rate (6 Years) - Hispanic',\n",
    "       'DRVGR2021_RV.Graduation rate - Bachelor degree within 6 years, White, non-Hispanic': 'Graduation Rate (6 Years) - White, non-Hispanic',\n",
    "       'DRVGR2021_RV.Graduation rate - Bachelor degree within 6 years, two or more races': 'Graduation Rate (6 Years) - Two or more races',\n",
    "       'DRVGR2021_RV.Graduation rate - Bachelor degree within 6 years, Race/ethnicity unknown': 'Graduation Rate (6 Years) - Race/ethnicity unknown',\n",
    "       'DRVGR2021_RV.Graduation rate - Bachelor degree within 6 years, Nonresident alien': 'Graduation Rate (6 Years) - Nonresident alien',\n",
    "       \"DRVGR2021_RV.Pell Grant recipients - Bachelor's degree rate within 6 years\": \"Graduation Rate (6 Years) - Pell Grant\"})"
   ]
  },
  {
   "cell_type": "code",
   "execution_count": 67,
   "id": "01201f44-0207-4715-a43e-82d37cdddf76",
   "metadata": {
    "scrolled": true
   },
   "outputs": [
    {
     "data": {
      "text/plain": [
       "Index(['ID', 'Institution Name', 'Year', 'State Abbreviation',\n",
       "       'Institution Sector', 'HBCU', 'FT Undergraduate Enrollment',\n",
       "       'Percent of Enrollment - American Indian or Alaska Native',\n",
       "       'Percent of Enrollment - Asian',\n",
       "       'Percent of Enrollment - Black or African American',\n",
       "       'Percent of Enrollment - Hispanic/Latino',\n",
       "       'Percent of Enrollment - Native Hawaiian or Other Pacific Islander',\n",
       "       'Percent of Enrollment - White',\n",
       "       'Percent of Enrollment - Two or More Races',\n",
       "       'Percent of Enrollment - Race/ethnicity unknown',\n",
       "       'Percent of Enrollment - Nonresident Alien',\n",
       "       'Percent of Enrollment - Asian/Native Hawaiian/Pacific Islander',\n",
       "       'Percent of Enrollment - Women', 'FT Retention Rate',\n",
       "       'Graduation Rate (6 Years) - Total', 'Graduation Rate (6 Years) - Men',\n",
       "       'Graduation Rate (6 Years) - Women',\n",
       "       'Graduation Rate (6 Years) - American Indian or Alaska Native',\n",
       "       'Graduation Rate (6 Years) - Asian/Native Hawaiian/Pacific Islander',\n",
       "       'Graduation Rate (6 Years) - Asian',\n",
       "       'Graduation Rate (6 Years) - Native Hawaiian or Other Pacific Islander',\n",
       "       'Graduation Rate (6 Years) - Black, non-Hispanic',\n",
       "       'Graduation Rate (6 Years) - Hispanic',\n",
       "       'Graduation Rate (6 Years) - White, non-Hispanic',\n",
       "       'Graduation Rate (6 Years) - Two or more races',\n",
       "       'Graduation Rate (6 Years) - Race/ethnicity unknown',\n",
       "       'Graduation Rate (6 Years) - Nonresident alien',\n",
       "       'Graduation Rate (6 Years) - Pell Grant'],\n",
       "      dtype='object')"
      ]
     },
     "execution_count": 67,
     "metadata": {},
     "output_type": "execute_result"
    }
   ],
   "source": [
    "data_2021.columns"
   ]
  },
  {
   "cell_type": "code",
   "execution_count": 26,
   "id": "e316a32c-8b22-4ec4-8434-a31e39257be1",
   "metadata": {},
   "outputs": [
    {
     "data": {
      "text/plain": [
       "(149, 33)"
      ]
     },
     "execution_count": 26,
     "metadata": {},
     "output_type": "execute_result"
    }
   ],
   "source": [
    "data_2021.shape"
   ]
  },
  {
   "cell_type": "code",
   "execution_count": 118,
   "id": "3ccdb7d4-dc53-4355-8217-a96ddbad9090",
   "metadata": {},
   "outputs": [],
   "source": [
    "data_2022 = data_2022.rename(columns={'unitid': 'ID', 'institution name': 'Institution Name', 'year':'Year', 'HD2022.State abbreviation':'State Abbreviation',\n",
    "       'HD2022.Sector of institution': 'Institution Sector',\n",
    "       'HD2022.Historically Black College or University': 'HBCU',\n",
    "       'DRVEF2022.Full-time undergraduate enrollment': 'FT Undergraduate Enrollment',\n",
    "       'DRVEF2022.Percent of undergraduate enrollment that are American Indian or Alaska Native': 'Percent of Enrollment - American Indian or Alaska Native',\n",
    "       'DRVEF2022.Percent of undergraduate enrollment that are Asian': 'Percent of Enrollment - Asian',\n",
    "       'DRVEF2022.Percent of undergraduate enrollment that are Black or African American': 'Percent of Enrollment - Black or African American',\n",
    "       'DRVEF2022.Percent of undergraduate enrollment that are Hispanic/Latino': 'Percent of Enrollment - Hispanic/Latino',\n",
    "       'DRVEF2022.Percent of undergraduate enrollment that are Native Hawaiian or Other Pacific Islander' : 'Percent of Enrollment - Native Hawaiian or Other Pacific Islander',\n",
    "       'DRVEF2022.Percent of undergraduate enrollment that are White': 'Percent of Enrollment - White',\n",
    "       'DRVEF2022.Percent of undergraduate enrollment that are two or more races': 'Percent of Enrollment - Two or More Races',\n",
    "       'DRVEF2022.Percent of undergraduate enrollment that are Race/ethnicity unknown': 'Percent of Enrollment - Race/ethnicity unknown',\n",
    "       'DRVEF2022.Percent of undergraduate enrollment that are U.S. Nonresident': 'Percent of Enrollment - Nonresident Alien',\n",
    "       'DRVEF2022.Percent of undergraduate enrollment that are Asian/Native Hawaiian/Pacific Islander' : 'Percent of Enrollment - Asian/Native Hawaiian/Pacific Islander',\n",
    "       'DRVEF2022.Percent of undergraduate enrollment that are women' : 'Percent of Enrollment - Women',\n",
    "       'EF2022D.Full-time retention rate, 2022' : 'FT Retention Rate',\n",
    "       'DRVGR2022.Graduation rate - Bachelor degree within 6 years, total': 'Graduation Rate (6 Years) - Total',\n",
    "       'DRVGR2022.Graduation rate - Bachelor degree within 6 years, men': 'Graduation Rate (6 Years) - Men',\n",
    "       'DRVGR2022.Graduation rate - Bachelor degree within 6 years, women': 'Graduation Rate (6 Years) - Women',\n",
    "       'DRVGR2022.Graduation rate - Bachelor degree within 6 years, American Indian or Alaska Native': 'Graduation Rate (6 Years) - American Indian or Alaska Native',\n",
    "       'DRVGR2022.Graduation rate - Bachelor degree within 6 years, Asian/Native Hawaiian/Pacific Islander': 'Graduation Rate (6 Years) - Asian/Native Hawaiian/Pacific Islander',\n",
    "       'DRVGR2022.Graduation rate - Bachelor degree within 6 years, Asian': 'Graduation Rate (6 Years) - Asian',\n",
    "       'DRVGR2022.Graduation rate - Bachelor degree within 6 years, Native Hawaiian or Other Pacific Islander': 'Graduation Rate (6 Years) - Native Hawaiian or Other Pacific Islander',\n",
    "       'DRVGR2022.Graduation rate - Bachelor degree within 6 years, Black, non-Hispanic': 'Graduation Rate (6 Years) - Black, non-Hispanic',\n",
    "       'DRVGR2022.Graduation rate - Bachelor degree within 6 years, Hispanic': 'Graduation Rate (6 Years) - Hispanic',\n",
    "       'DRVGR2022.Graduation rate - Bachelor degree within 6 years, White, non-Hispanic': 'Graduation Rate (6 Years) - White, non-Hispanic',\n",
    "       'DRVGR2022.Graduation rate - Bachelor degree within 6 years, two or more races': 'Graduation Rate (6 Years) - Two or more races',\n",
    "       'DRVGR2022.Graduation rate - Bachelor degree within 6 years, Race/ethnicity unknown': 'Graduation Rate (6 Years) - Race/ethnicity unknown',\n",
    "       'DRVGR2022.Graduation rate - Bachelor degree within 6 years, U.S. Nonresident': 'Graduation Rate (6 Years) - Nonresident alien',\n",
    "       \"DRVGR2022.Pell Grant recipients - Bachelor's degree rate within 6 years\": \"Graduation Rate (6 Years) - Pell Grant\"})"
   ]
  },
  {
   "cell_type": "code",
   "execution_count": 96,
   "id": "86c0b664-746a-4b01-9c81-832cbc97043d",
   "metadata": {},
   "outputs": [
    {
     "data": {
      "text/plain": [
       "Index(['ID', 'Institution Name', 'Year', 'State Abbreviation',\n",
       "       'Institution Sector', 'HBCU', 'FT Undergraduate Enrollment',\n",
       "       'Percent of Enrollment - American Indian or Alaska Native',\n",
       "       'Percent of Enrollment - Asian',\n",
       "       'Percent of Enrollment - Black or African American',\n",
       "       'Percent of Enrollment - Hispanic/Latino',\n",
       "       'Percent of Enrollment - Native Hawaiian or Other Pacific Islander',\n",
       "       'Percent of Enrollment - White',\n",
       "       'Percent of Enrollment - Two or More Races',\n",
       "       'Percent of Enrollment - Race/ethnicity unknown',\n",
       "       'Percent of Enrollment - Nonresident Alien',\n",
       "       'Percent of Enrollment - Asian/Native Hawaiian/Pacific Islander',\n",
       "       'Percent of Enrollment - Women', 'FT Retention Rate',\n",
       "       'Graduation Rate (6 Years) - Total', 'Graduation Rate (6 Years) - Men',\n",
       "       'Graduation Rate (6 Years) - Women',\n",
       "       'Graduation Rate (6 Years) - American Indian or Alaska Native',\n",
       "       'Graduation Rate (6 Years) - Asian/Native Hawaiian/Pacific Islander',\n",
       "       'Graduation Rate (6 Years) - Asian',\n",
       "       'Graduation Rate (6 Years) - Native Hawaiian or Other Pacific Islander',\n",
       "       'Graduation Rate (6 Years) - Black, non-Hispanic',\n",
       "       'Graduation Rate (6 Years) - Hispanic',\n",
       "       'Graduation Rate (6 Years) - White, non-Hispanic',\n",
       "       'Graduation Rate (6 Years) - Two or more races',\n",
       "       'Graduation Rate (6 Years) - Race/ethnicity unknown',\n",
       "       'Graduation Rate (6 Years) - Nonresident alien',\n",
       "       'Graduation Rate (6 Years) - Pell Grant'],\n",
       "      dtype='object')"
      ]
     },
     "execution_count": 96,
     "metadata": {},
     "output_type": "execute_result"
    }
   ],
   "source": [
    "data_2022.columns"
   ]
  },
  {
   "cell_type": "code",
   "execution_count": 97,
   "id": "4cdf78cd-1f2f-4dff-9584-77a294169a2b",
   "metadata": {},
   "outputs": [
    {
     "data": {
      "text/plain": [
       "(149, 33)"
      ]
     },
     "execution_count": 97,
     "metadata": {},
     "output_type": "execute_result"
    }
   ],
   "source": [
    "data_2022.shape"
   ]
  },
  {
   "cell_type": "code",
   "execution_count": 119,
   "id": "95ad1942-2368-41d8-aa0a-5dc889e74e4b",
   "metadata": {},
   "outputs": [],
   "source": [
    "all_data = pd.concat([data_2019,data_2020,data_2021,data_2022])"
   ]
  },
  {
   "cell_type": "code",
   "execution_count": 120,
   "id": "2a820611-b024-40f5-aae7-4d054f117e70",
   "metadata": {},
   "outputs": [
    {
     "data": {
      "text/plain": [
       "Index(['ID', 'Institution Name', 'Year', 'State Abbreviation',\n",
       "       'Institution Sector', 'HBCU', 'FT Undergraduate Enrollment',\n",
       "       'Percent of Enrollment - American Indian or Alaska Native',\n",
       "       'Percent of Enrollment - Asian',\n",
       "       'Percent of Enrollment - Black or African American',\n",
       "       'Percent of Enrollment - Hispanic/Latino',\n",
       "       'Percent of Enrollment - Native Hawaiian or Other Pacific Islander',\n",
       "       'Percent of Enrollment - White',\n",
       "       'Percent of Enrollment - Two or More Races',\n",
       "       'Percent of Enrollment - Race/ethnicity unknown',\n",
       "       'Percent of Enrollment - Nonresident Alien',\n",
       "       'Percent of Enrollment - Asian/Native Hawaiian/Pacific Islander',\n",
       "       'Percent of Enrollment - Women', 'FT Retention Rate',\n",
       "       'Graduation Rate (6 Years) - Total', 'Graduation Rate (6 Years) - Men',\n",
       "       'Graduation Rate (6 Years) - Women',\n",
       "       'Graduation Rate (6 Years) - American Indian or Alaska Native',\n",
       "       'Graduation Rate (6 Years) - Asian/Native Hawaiian/Pacific Islander',\n",
       "       'Graduation Rate (6 Years) - Asian',\n",
       "       'Graduation Rate (6 Years) - Native Hawaiian or Other Pacific Islander',\n",
       "       'Graduation Rate (6 Years) - Black, non-Hispanic',\n",
       "       'Graduation Rate (6 Years) - Hispanic',\n",
       "       'Graduation Rate (6 Years) - White, non-Hispanic',\n",
       "       'Graduation Rate (6 Years) - Two or more races',\n",
       "       'Graduation Rate (6 Years) - Race/ethnicity unknown',\n",
       "       'Graduation Rate (6 Years) - Nonresident alien',\n",
       "       'Graduation Rate (6 Years) - Pell Grant'],\n",
       "      dtype='object')"
      ]
     },
     "execution_count": 120,
     "metadata": {},
     "output_type": "execute_result"
    }
   ],
   "source": [
    "all_data.columns"
   ]
  },
  {
   "cell_type": "code",
   "execution_count": 100,
   "id": "a2e17bdf-3f97-450f-ade2-97d98e97cc44",
   "metadata": {},
   "outputs": [
    {
     "data": {
      "text/plain": [
       "(596, 33)"
      ]
     },
     "execution_count": 100,
     "metadata": {},
     "output_type": "execute_result"
    }
   ],
   "source": [
    "all_data.shape"
   ]
  },
  {
   "cell_type": "code",
   "execution_count": 121,
   "id": "c3e9f350-2560-4d12-acdf-cd50777179be",
   "metadata": {},
   "outputs": [],
   "source": [
    "all_data['Number Enrollment - American Indian or Alaska Native'] = all_data['Percent of Enrollment - American Indian or Alaska Native']/100.0 * all_data['FT Undergraduate Enrollment']\n",
    "all_data['Number Enrollment - American Indian or Alaska Native'] = all_data['Percent of Enrollment - American Indian or Alaska Native']/100.0 * all_data['FT Undergraduate Enrollment']\n",
    "all_data['Number Enrollment - Asian'] = all_data['Percent of Enrollment - Asian']/100.0 * all_data['FT Undergraduate Enrollment']\n",
    "all_data['Number Enrollment - Black or African American'] = all_data['Percent of Enrollment - Black or African American']/100.0 * all_data['FT Undergraduate Enrollment']\n",
    "all_data['Number Enrollment - Hispanic/Latino'] = all_data['Percent of Enrollment - Hispanic/Latino']/100.0 * all_data['FT Undergraduate Enrollment']\n",
    "all_data['Number Enrollment - Native Hawaiian or Other Pacific Islander'] = all_data['Percent of Enrollment - Native Hawaiian or Other Pacific Islander']/100.0 * all_data['FT Undergraduate Enrollment']\n",
    "all_data['Number Enrollment - White'] = all_data['Percent of Enrollment - White']/100.0 * all_data['FT Undergraduate Enrollment']\n",
    "all_data['Number Enrollment - Two or More Races'] = all_data['Percent of Enrollment - Two or More Races']/100.0 * all_data['FT Undergraduate Enrollment']\n",
    "all_data['Number Enrollment - Race/ethnicity unknown'] = all_data['Percent of Enrollment - Race/ethnicity unknown']/100.0 * all_data['FT Undergraduate Enrollment']\n",
    "all_data['Number Enrollment - Nonresident Alien'] = all_data['Percent of Enrollment - Nonresident Alien']/100.0 * all_data['FT Undergraduate Enrollment']\n",
    "all_data['Number Enrollment - Asian/Native Hawaiian/Pacific Islander'] = all_data['Percent of Enrollment - Asian/Native Hawaiian/Pacific Islander']/100.0 * all_data['FT Undergraduate Enrollment']\n",
    "all_data['Number Enrollment - Women'] = all_data['Percent of Enrollment - Women']/100.0 * all_data['FT Undergraduate Enrollment']"
   ]
  },
  {
   "cell_type": "code",
   "execution_count": 106,
   "id": "6dcbef21-1a2f-462d-85fa-99a1254989ce",
   "metadata": {},
   "outputs": [],
   "source": [
    "# all_data['Graduation Number (6 Years) - Men'] = all_data['Graduation Rate (6 Years) - Men']/100 * all_data['Graduation Rate (6 Years) - Total']\n",
    "# all_data['Graduation Number (6 Years) - Women'] = all_data['Graduation Rate (6 Years) - Women']/100 * all_data['Graduation Rate (6 Years) - Total']\n",
    "# all_data['Graduation Number (6 Years) - American Indian or Alaska Native'] = all_data['Graduation Rate (6 Years) - American Indian or Alaska Native']/100 * all_data['Graduation Rate (6 Years) - Total']\n",
    "# all_data['Graduation Number (6 Years) - Asian/Native Hawaiian/Pacific Islander'] = all_data['Graduation Rate (6 Years) - Asian/Native Hawaiian/Pacific Islander']/100 * all_data['Graduation Rate (6 Years) - Total']\n",
    "# all_data['Graduation Number (6 Years) - Asian'] = all_data['Graduation Rate (6 Years) - Asian']/100 * all_data['Graduation Rate (6 Years) - Total']\n",
    "# all_data['Graduation Number (6 Years) - Native Hawaiian or Other Pacific Islander'] = all_data['Graduation Rate (6 Years) - Native Hawaiian or Other Pacific Islander']/100 * all_data['Graduation Rate (6 Years) - Total']\n",
    "# all_data['Graduation Number (6 Years) - Black, non-Hispanic'] = all_data['Graduation Rate (6 Years) - Black, non-Hispanic']/100 * all_data['Graduation Rate (6 Years) - Total']\n",
    "# all_data['Graduation Number (6 Years) - Hispanic'] = all_data['Graduation Rate (6 Years) - Hispanic']/100 * all_data['Graduation Rate (6 Years) - Total']\n",
    "# all_data['Graduation Number (6 Years) - White, non-Hispanic'] = all_data['Graduation Rate (6 Years) - White, non-Hispanic']/100 * all_data['Graduation Rate (6 Years) - Total']\n",
    "# all_data['Graduation Number (6 Years) - Two or more races'] = all_data['Graduation Rate (6 Years) - Two or more races']/100 * all_data['Graduation Rate (6 Years) - Total']\n",
    "# all_data['Graduation Number (6 Years) - Race/ethnicity unknown'] = all_data['Graduation Rate (6 Years) - Race/ethnicity unknown']/100 * all_data['Graduation Rate (6 Years) - Total']\n",
    "# all_data['Graduation Number (6 Years) - Nonresident alien'] = all_data['Graduation Rate (6 Years) - Nonresident alien']/100 * all_data['Graduation Rate (6 Years) - Total']\n",
    "# all_data['Graduation Number (6 Years) - Pell Grant'] = all_data['Graduation Rate (6 Years) - Pell Grant']/100 * all_data['Graduation Rate (6 Years) - Total']"
   ]
  },
  {
   "cell_type": "code",
   "execution_count": 124,
   "id": "4c4481c1-fe24-4fb2-9608-a8f5994e15cc",
   "metadata": {},
   "outputs": [],
   "source": [
    "all_data.to_excel(\"C:/Users/marya/Documents/DA11/Python/projects/Capstone Data/data/Capstone All Data_2022.xlsx\")"
   ]
  },
  {
   "cell_type": "code",
   "execution_count": null,
   "id": "524219a6-f793-4884-8590-a72077412eb1",
   "metadata": {},
   "outputs": [],
   "source": []
  }
 ],
 "metadata": {
  "kernelspec": {
   "display_name": "Python 3 (ipykernel)",
   "language": "python",
   "name": "python3"
  },
  "language_info": {
   "codemirror_mode": {
    "name": "ipython",
    "version": 3
   },
   "file_extension": ".py",
   "mimetype": "text/x-python",
   "name": "python",
   "nbconvert_exporter": "python",
   "pygments_lexer": "ipython3",
   "version": "3.11.7"
  }
 },
 "nbformat": 4,
 "nbformat_minor": 5
}
